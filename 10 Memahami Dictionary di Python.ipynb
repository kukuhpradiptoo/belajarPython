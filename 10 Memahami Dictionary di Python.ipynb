{
 "cells": [
  {
   "cell_type": "markdown",
   "id": "46842fd4",
   "metadata": {},
   "source": [
    "## Dictionary \n",
    "\n",
    "1. tidak memiliki urutan\n",
    "2. pengambilan item dengan key\n",
    "3. format {'key':item,'key2':item}"
   ]
  },
  {
   "cell_type": "code",
   "execution_count": 1,
   "id": "c8d0faa8",
   "metadata": {},
   "outputs": [],
   "source": [
    "dict = {'k1':'ayam','k2':'kambing','k3':'sapi'}"
   ]
  },
  {
   "cell_type": "code",
   "execution_count": 2,
   "id": "35623035",
   "metadata": {},
   "outputs": [
    {
     "data": {
      "text/plain": [
       "{'k1': 'ayam', 'k2': 'kambing', 'k3': 'sapi'}"
      ]
     },
     "execution_count": 2,
     "metadata": {},
     "output_type": "execute_result"
    }
   ],
   "source": [
    "dict"
   ]
  },
  {
   "cell_type": "code",
   "execution_count": 4,
   "id": "491fe48c",
   "metadata": {},
   "outputs": [
    {
     "data": {
      "text/plain": [
       "'kambing'"
      ]
     },
     "execution_count": 4,
     "metadata": {},
     "output_type": "execute_result"
    }
   ],
   "source": [
    "dict['k2']"
   ]
  },
  {
   "cell_type": "code",
   "execution_count": 5,
   "id": "25cd1800",
   "metadata": {},
   "outputs": [],
   "source": [
    "daftar_harga = {'kijang_inova':250,'avanza':200,'vios':220}"
   ]
  },
  {
   "cell_type": "code",
   "execution_count": 6,
   "id": "b197e8f6",
   "metadata": {},
   "outputs": [
    {
     "data": {
      "text/plain": [
       "200"
      ]
     },
     "execution_count": 6,
     "metadata": {},
     "output_type": "execute_result"
    }
   ],
   "source": [
    "daftar_harga['avanza']"
   ]
  },
  {
   "cell_type": "code",
   "execution_count": 7,
   "id": "7774c048",
   "metadata": {},
   "outputs": [],
   "source": [
    "dict = {'k1':'ayam','k2':30,'k3':['a','b',20.5],'k4':{'k5':'apel','k6':'jeruk','k7':'pisang'}}"
   ]
  },
  {
   "cell_type": "code",
   "execution_count": 8,
   "id": "f1093a66",
   "metadata": {},
   "outputs": [
    {
     "data": {
      "text/plain": [
       "{'k1': 'ayam',\n",
       " 'k2': 30,\n",
       " 'k3': ['a', 'b', 20.5],\n",
       " 'k4': {'k5': 'apel', 'k6': 'jeruk', 'k7': 'pisang'}}"
      ]
     },
     "execution_count": 8,
     "metadata": {},
     "output_type": "execute_result"
    }
   ],
   "source": [
    "dict"
   ]
  },
  {
   "cell_type": "code",
   "execution_count": 9,
   "id": "ece04284",
   "metadata": {},
   "outputs": [
    {
     "data": {
      "text/plain": [
       "'jeruk'"
      ]
     },
     "execution_count": 9,
     "metadata": {},
     "output_type": "execute_result"
    }
   ],
   "source": [
    "dict['k4']['k6']"
   ]
  },
  {
   "cell_type": "code",
   "execution_count": 10,
   "id": "bc56616b",
   "metadata": {},
   "outputs": [],
   "source": [
    "dict['k3'] = 'GANTI ITEM'"
   ]
  },
  {
   "cell_type": "code",
   "execution_count": 11,
   "id": "5efcac5c",
   "metadata": {},
   "outputs": [
    {
     "data": {
      "text/plain": [
       "{'k1': 'ayam',\n",
       " 'k2': 30,\n",
       " 'k3': 'GANTI ITEM',\n",
       " 'k4': {'k5': 'apel', 'k6': 'jeruk', 'k7': 'pisang'}}"
      ]
     },
     "execution_count": 11,
     "metadata": {},
     "output_type": "execute_result"
    }
   ],
   "source": [
    "dict"
   ]
  },
  {
   "cell_type": "code",
   "execution_count": null,
   "id": "3ef8a4f3",
   "metadata": {},
   "outputs": [],
   "source": []
  },
  {
   "cell_type": "markdown",
   "id": "b44031b8",
   "metadata": {},
   "source": [
    "## Method Dictionary"
   ]
  },
  {
   "cell_type": "code",
   "execution_count": 15,
   "id": "00778e9a",
   "metadata": {},
   "outputs": [
    {
     "data": {
      "text/plain": [
       "dict_keys(['k1', 'k2', 'k3', 'k4'])"
      ]
     },
     "execution_count": 15,
     "metadata": {},
     "output_type": "execute_result"
    }
   ],
   "source": [
    "dict.keys()"
   ]
  },
  {
   "cell_type": "code",
   "execution_count": 16,
   "id": "4dd762b5",
   "metadata": {},
   "outputs": [
    {
     "data": {
      "text/plain": [
       "dict_values(['ayam', 30, 'GANTI ITEM', {'k5': 'apel', 'k6': 'jeruk', 'k7': 'pisang'}])"
      ]
     },
     "execution_count": 16,
     "metadata": {},
     "output_type": "execute_result"
    }
   ],
   "source": [
    "dict.values()"
   ]
  },
  {
   "cell_type": "code",
   "execution_count": 18,
   "id": "9023e97e",
   "metadata": {},
   "outputs": [
    {
     "data": {
      "text/plain": [
       "dict_items([('k1', 'ayam'), ('k2', 30), ('k3', 'GANTI ITEM'), ('k4', {'k5': 'apel', 'k6': 'jeruk', 'k7': 'pisang'})])"
      ]
     },
     "execution_count": 18,
     "metadata": {},
     "output_type": "execute_result"
    }
   ],
   "source": [
    "dict.items()"
   ]
  },
  {
   "cell_type": "code",
   "execution_count": 19,
   "id": "022db0d5",
   "metadata": {},
   "outputs": [],
   "source": [
    "dict['k4']['k7'] = 'PISANG'"
   ]
  },
  {
   "cell_type": "code",
   "execution_count": 20,
   "id": "63dc101f",
   "metadata": {},
   "outputs": [
    {
     "data": {
      "text/plain": [
       "{'k1': 'ayam',\n",
       " 'k2': 30,\n",
       " 'k3': 'GANTI ITEM',\n",
       " 'k4': {'k5': 'apel', 'k6': 'jeruk', 'k7': 'PISANG'}}"
      ]
     },
     "execution_count": 20,
     "metadata": {},
     "output_type": "execute_result"
    }
   ],
   "source": [
    "dict"
   ]
  },
  {
   "cell_type": "code",
   "execution_count": 25,
   "id": "bc25fe31",
   "metadata": {},
   "outputs": [],
   "source": [
    "dict2= dict['k4']['k7'].lower()"
   ]
  },
  {
   "cell_type": "code",
   "execution_count": 26,
   "id": "4e8cdc1d",
   "metadata": {},
   "outputs": [
    {
     "data": {
      "text/plain": [
       "{'k1': 'ayam',\n",
       " 'k2': 30,\n",
       " 'k3': 'GANTI ITEM',\n",
       " 'k4': {'k5': 'apel', 'k6': 'jeruk', 'k7': 'PISANG'}}"
      ]
     },
     "execution_count": 26,
     "metadata": {},
     "output_type": "execute_result"
    }
   ],
   "source": [
    "dict"
   ]
  },
  {
   "cell_type": "code",
   "execution_count": 27,
   "id": "b611413f",
   "metadata": {},
   "outputs": [
    {
     "data": {
      "text/plain": [
       "'pisang'"
      ]
     },
     "execution_count": 27,
     "metadata": {},
     "output_type": "execute_result"
    }
   ],
   "source": [
    "dict2"
   ]
  },
  {
   "cell_type": "code",
   "execution_count": 28,
   "id": "0ee60614",
   "metadata": {},
   "outputs": [],
   "source": [
    "dict['k4']['k7'] = dict2"
   ]
  },
  {
   "cell_type": "code",
   "execution_count": 29,
   "id": "a7538fe6",
   "metadata": {},
   "outputs": [
    {
     "data": {
      "text/plain": [
       "{'k1': 'ayam',\n",
       " 'k2': 30,\n",
       " 'k3': 'GANTI ITEM',\n",
       " 'k4': {'k5': 'apel', 'k6': 'jeruk', 'k7': 'pisang'}}"
      ]
     },
     "execution_count": 29,
     "metadata": {},
     "output_type": "execute_result"
    }
   ],
   "source": [
    "dict"
   ]
  },
  {
   "cell_type": "code",
   "execution_count": 1,
   "id": "7fd9a831",
   "metadata": {},
   "outputs": [],
   "source": [
    "warehousing = { 'harga_harian': 1000000, 'total_hari':15 } \n",
    "cleansing = { 'harga_harian': 1500000, 'total_hari':10 } \n",
    "integration = { 'harga_harian':2000000, 'total_hari':15 } \n",
    "transform = { 'harga_harian':2500000, 'total_hari':10 }"
   ]
  },
  {
   "cell_type": "code",
   "execution_count": 3,
   "id": "d4c29f15",
   "metadata": {},
   "outputs": [
    {
     "name": "stdout",
     "output_type": "stream",
     "text": [
      "85000000\n"
     ]
    }
   ],
   "source": [
    "warehousing = { 'harga_harian': 1000000, 'total_hari':15 } \n",
    "cleansing = { 'harga_harian': 1500000, 'total_hari':10 } \n",
    "integration = { 'harga_harian':2000000, 'total_hari':15 } \n",
    "transform = { 'harga_harian':2500000, 'total_hari':10 }\n",
    "\n",
    "sub_warehousing = warehousing[\"harga_harian\"] * warehousing[\"total_hari\"]\n",
    "sub_cleansing = cleansing[\"harga_harian\"] * cleansing[\"total_hari\"] \n",
    "sub_integration = integration[\"harga_harian\"] * integration[\"total_hari\"] \n",
    "sub_transform = transform[\"harga_harian\"] * transform[\"total_hari\"]\n",
    "total_harga = sub_warehousing + sub_cleansing + sub_integration + sub_transform\n",
    "print(total_harga)"
   ]
  },
  {
   "cell_type": "code",
   "execution_count": null,
   "id": "b6b8764b",
   "metadata": {},
   "outputs": [],
   "source": []
  },
  {
   "cell_type": "code",
   "execution_count": null,
   "id": "3d13d998",
   "metadata": {},
   "outputs": [],
   "source": []
  }
 ],
 "metadata": {
  "kernelspec": {
   "display_name": "Python 3 (ipykernel)",
   "language": "python",
   "name": "python3"
  },
  "language_info": {
   "codemirror_mode": {
    "name": "ipython",
    "version": 3
   },
   "file_extension": ".py",
   "mimetype": "text/x-python",
   "name": "python",
   "nbconvert_exporter": "python",
   "pygments_lexer": "ipython3",
   "version": "3.9.12"
  }
 },
 "nbformat": 4,
 "nbformat_minor": 5
}
