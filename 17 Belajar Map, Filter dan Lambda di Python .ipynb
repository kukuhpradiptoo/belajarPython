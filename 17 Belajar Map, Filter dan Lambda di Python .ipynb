{
 "cells": [
  {
   "cell_type": "code",
   "execution_count": 1,
   "id": "31990e07",
   "metadata": {},
   "outputs": [],
   "source": [
    "def kali10(num):\n",
    "    return num*10"
   ]
  },
  {
   "cell_type": "code",
   "execution_count": 2,
   "id": "583454d7",
   "metadata": {},
   "outputs": [
    {
     "data": {
      "text/plain": [
       "760"
      ]
     },
     "execution_count": 2,
     "metadata": {},
     "output_type": "execute_result"
    }
   ],
   "source": [
    "kali10(76)"
   ]
  },
  {
   "cell_type": "code",
   "execution_count": 3,
   "id": "843514e9",
   "metadata": {},
   "outputs": [],
   "source": [
    "angka = [3,6,9]"
   ]
  },
  {
   "cell_type": "code",
   "execution_count": 4,
   "id": "3e86c0bb",
   "metadata": {},
   "outputs": [
    {
     "data": {
      "text/plain": [
       "[3,\n",
       " 6,\n",
       " 9,\n",
       " 3,\n",
       " 6,\n",
       " 9,\n",
       " 3,\n",
       " 6,\n",
       " 9,\n",
       " 3,\n",
       " 6,\n",
       " 9,\n",
       " 3,\n",
       " 6,\n",
       " 9,\n",
       " 3,\n",
       " 6,\n",
       " 9,\n",
       " 3,\n",
       " 6,\n",
       " 9,\n",
       " 3,\n",
       " 6,\n",
       " 9,\n",
       " 3,\n",
       " 6,\n",
       " 9,\n",
       " 3,\n",
       " 6,\n",
       " 9]"
      ]
     },
     "execution_count": 4,
     "metadata": {},
     "output_type": "execute_result"
    }
   ],
   "source": [
    "kali10(angka)"
   ]
  },
  {
   "cell_type": "code",
   "execution_count": 6,
   "id": "52759ff1",
   "metadata": {},
   "outputs": [
    {
     "name": "stdout",
     "output_type": "stream",
     "text": [
      "30\n",
      "60\n",
      "90\n"
     ]
    }
   ],
   "source": [
    "for item in map(kali10,angka):\n",
    "    print(item)"
   ]
  },
  {
   "cell_type": "code",
   "execution_count": 10,
   "id": "b3dc79a9",
   "metadata": {},
   "outputs": [
    {
     "data": {
      "text/plain": [
       "[30, 60, 90]"
      ]
     },
     "execution_count": 10,
     "metadata": {},
     "output_type": "execute_result"
    }
   ],
   "source": [
    "hasil = list(map(kali10,angka))\n",
    "hasil"
   ]
  },
  {
   "cell_type": "code",
   "execution_count": 11,
   "id": "c7ace435",
   "metadata": {},
   "outputs": [],
   "source": [
    "angka2 = (31,61,91)"
   ]
  },
  {
   "cell_type": "code",
   "execution_count": 12,
   "id": "b05048fb",
   "metadata": {},
   "outputs": [],
   "source": [
    "hasil2 = tuple(map(kali10,angka2))"
   ]
  },
  {
   "cell_type": "code",
   "execution_count": 13,
   "id": "ce0e598e",
   "metadata": {},
   "outputs": [
    {
     "data": {
      "text/plain": [
       "(310, 610, 910)"
      ]
     },
     "execution_count": 13,
     "metadata": {},
     "output_type": "execute_result"
    }
   ],
   "source": [
    "hasil2"
   ]
  },
  {
   "cell_type": "code",
   "execution_count": 14,
   "id": "f74f38d5",
   "metadata": {},
   "outputs": [],
   "source": [
    "def jumlahkata(kata):\n",
    "    if len(kata)%2 == 0:\n",
    "        return 'Genap Bro'\n",
    "    else:\n",
    "        return 'Ganjil Sis'"
   ]
  },
  {
   "cell_type": "code",
   "execution_count": 15,
   "id": "83e3cebb",
   "metadata": {},
   "outputs": [
    {
     "data": {
      "text/plain": [
       "'Ganjil Sis'"
      ]
     },
     "execution_count": 15,
     "metadata": {},
     "output_type": "execute_result"
    }
   ],
   "source": [
    "jumlahkata('saya ')"
   ]
  },
  {
   "cell_type": "code",
   "execution_count": 16,
   "id": "6faaa9a3",
   "metadata": {},
   "outputs": [
    {
     "data": {
      "text/plain": [
       "'Genap Bro'"
      ]
     },
     "execution_count": 16,
     "metadata": {},
     "output_type": "execute_result"
    }
   ],
   "source": [
    "jumlahkata('saya abefrorufr8funhrkfkjnejworkgfrfg ')"
   ]
  },
  {
   "cell_type": "code",
   "execution_count": 17,
   "id": "e390b1c0",
   "metadata": {},
   "outputs": [],
   "source": [
    "listkata = ['sdsd','dffdf','sdfsdfdsd','dfdff']"
   ]
  },
  {
   "cell_type": "code",
   "execution_count": 19,
   "id": "f4f51df5",
   "metadata": {},
   "outputs": [
    {
     "data": {
      "text/plain": [
       "['Genap Bro', 'Ganjil Sis', 'Ganjil Sis', 'Ganjil Sis']"
      ]
     },
     "execution_count": 19,
     "metadata": {},
     "output_type": "execute_result"
    }
   ],
   "source": [
    "list(map(jumlahkata,listkata))"
   ]
  },
  {
   "cell_type": "code",
   "execution_count": null,
   "id": "185e7fc9",
   "metadata": {},
   "outputs": [],
   "source": []
  },
  {
   "cell_type": "markdown",
   "id": "79c330f4",
   "metadata": {},
   "source": [
    "## Filter"
   ]
  },
  {
   "cell_type": "code",
   "execution_count": 20,
   "id": "3a1b47c1",
   "metadata": {},
   "outputs": [],
   "source": [
    "def cekgenap(num):\n",
    "    return num%2 == 0"
   ]
  },
  {
   "cell_type": "code",
   "execution_count": 22,
   "id": "0f9503a0",
   "metadata": {},
   "outputs": [
    {
     "data": {
      "text/plain": [
       "False"
      ]
     },
     "execution_count": 22,
     "metadata": {},
     "output_type": "execute_result"
    }
   ],
   "source": [
    "cekgenap(7)"
   ]
  },
  {
   "cell_type": "code",
   "execution_count": 23,
   "id": "d3789427",
   "metadata": {},
   "outputs": [
    {
     "data": {
      "text/plain": [
       "True"
      ]
     },
     "execution_count": 23,
     "metadata": {},
     "output_type": "execute_result"
    }
   ],
   "source": [
    "cekgenap(10)"
   ]
  },
  {
   "cell_type": "code",
   "execution_count": 24,
   "id": "b6ed5517",
   "metadata": {},
   "outputs": [],
   "source": [
    "nomor = [1,2,3,4,5,6,7,8]"
   ]
  },
  {
   "cell_type": "code",
   "execution_count": 28,
   "id": "108f6c11",
   "metadata": {},
   "outputs": [
    {
     "data": {
      "text/plain": [
       "[2, 4, 6, 8]"
      ]
     },
     "execution_count": 28,
     "metadata": {},
     "output_type": "execute_result"
    }
   ],
   "source": [
    "list(filter(cekgenap,nomor))"
   ]
  },
  {
   "cell_type": "code",
   "execution_count": 29,
   "id": "75dc1928",
   "metadata": {},
   "outputs": [
    {
     "name": "stdout",
     "output_type": "stream",
     "text": [
      "2\n",
      "4\n",
      "6\n",
      "8\n"
     ]
    }
   ],
   "source": [
    "for item in filter(cekgenap, nomor):\n",
    "    print(item)"
   ]
  },
  {
   "cell_type": "markdown",
   "id": "de3c8878",
   "metadata": {},
   "source": [
    "## Map dan filter sering digunakan di level yang selanjutnya"
   ]
  },
  {
   "cell_type": "code",
   "execution_count": null,
   "id": "3ce19845",
   "metadata": {},
   "outputs": [],
   "source": []
  },
  {
   "cell_type": "code",
   "execution_count": null,
   "id": "7bed3933",
   "metadata": {},
   "outputs": [],
   "source": []
  },
  {
   "cell_type": "markdown",
   "id": "f8279513",
   "metadata": {},
   "source": [
    "# Lambda Expression"
   ]
  },
  {
   "cell_type": "code",
   "execution_count": 32,
   "id": "6e0ad4da",
   "metadata": {},
   "outputs": [],
   "source": [
    "fungsiku = lambda x: x*10"
   ]
  },
  {
   "cell_type": "code",
   "execution_count": 33,
   "id": "38b927f0",
   "metadata": {},
   "outputs": [
    {
     "data": {
      "text/plain": [
       "60"
      ]
     },
     "execution_count": 33,
     "metadata": {},
     "output_type": "execute_result"
    }
   ],
   "source": [
    "fungsiku(6)"
   ]
  },
  {
   "cell_type": "code",
   "execution_count": 34,
   "id": "f0329b15",
   "metadata": {},
   "outputs": [],
   "source": [
    "hasila = list(map(lambda x: x*10, angka))"
   ]
  },
  {
   "cell_type": "code",
   "execution_count": 35,
   "id": "600e5fba",
   "metadata": {},
   "outputs": [
    {
     "data": {
      "text/plain": [
       "[30, 60, 90]"
      ]
     },
     "execution_count": 35,
     "metadata": {},
     "output_type": "execute_result"
    }
   ],
   "source": [
    "hasila"
   ]
  },
  {
   "cell_type": "code",
   "execution_count": 37,
   "id": "58fbbbb5",
   "metadata": {},
   "outputs": [],
   "source": [
    "genapku = list(filter(lambda num: num%2 == 0, nomor))"
   ]
  },
  {
   "cell_type": "code",
   "execution_count": 38,
   "id": "880df2e5",
   "metadata": {},
   "outputs": [
    {
     "data": {
      "text/plain": [
       "[2, 4, 6, 8]"
      ]
     },
     "execution_count": 38,
     "metadata": {},
     "output_type": "execute_result"
    }
   ],
   "source": [
    "genapku"
   ]
  },
  {
   "cell_type": "code",
   "execution_count": null,
   "id": "6f9223b9",
   "metadata": {},
   "outputs": [],
   "source": []
  }
 ],
 "metadata": {
  "kernelspec": {
   "display_name": "Python 3 (ipykernel)",
   "language": "python",
   "name": "python3"
  },
  "language_info": {
   "codemirror_mode": {
    "name": "ipython",
    "version": 3
   },
   "file_extension": ".py",
   "mimetype": "text/x-python",
   "name": "python",
   "nbconvert_exporter": "python",
   "pygments_lexer": "ipython3",
   "version": "3.9.12"
  }
 },
 "nbformat": 4,
 "nbformat_minor": 5
}
