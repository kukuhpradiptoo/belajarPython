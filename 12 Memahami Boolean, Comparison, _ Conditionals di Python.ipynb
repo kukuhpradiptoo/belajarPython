{
 "cells": [
  {
   "cell_type": "code",
   "execution_count": 1,
   "id": "f45d8e5d",
   "metadata": {},
   "outputs": [
    {
     "data": {
      "text/plain": [
       "False"
      ]
     },
     "execution_count": 1,
     "metadata": {},
     "output_type": "execute_result"
    }
   ],
   "source": [
    "23 > 25"
   ]
  },
  {
   "cell_type": "code",
   "execution_count": 3,
   "id": "5bf5a286",
   "metadata": {},
   "outputs": [
    {
     "data": {
      "text/plain": [
       "True"
      ]
     },
     "execution_count": 3,
     "metadata": {},
     "output_type": "execute_result"
    }
   ],
   "source": [
    "23 > 15 or 19 == 19"
   ]
  },
  {
   "cell_type": "code",
   "execution_count": null,
   "id": "2d8081ed",
   "metadata": {},
   "outputs": [],
   "source": []
  },
  {
   "cell_type": "markdown",
   "id": "4aa3a8cd",
   "metadata": {},
   "source": [
    "## Conditionals "
   ]
  },
  {
   "cell_type": "code",
   "execution_count": 4,
   "id": "3550d9d4",
   "metadata": {},
   "outputs": [],
   "source": [
    "a = 10\n",
    "b = 15"
   ]
  },
  {
   "cell_type": "code",
   "execution_count": 17,
   "id": "8f3d7cc2",
   "metadata": {},
   "outputs": [
    {
     "name": "stdout",
     "output_type": "stream",
     "text": [
      "yesh kamu salah\n"
     ]
    }
   ],
   "source": [
    "c = 15\n",
    "d = 16\n",
    "\n",
    "if b == d:\n",
    "    print('yang kamu masukan benar')\n",
    "else:\n",
    "    print('yesh kamu salah')"
   ]
  },
  {
   "cell_type": "code",
   "execution_count": 54,
   "id": "27114869",
   "metadata": {},
   "outputs": [],
   "source": [
    "berat_badan = 30"
   ]
  },
  {
   "cell_type": "code",
   "execution_count": 55,
   "id": "ce538146",
   "metadata": {},
   "outputs": [
    {
     "name": "stdout",
     "output_type": "stream",
     "text": [
      "kamu perlu naikin badan lagi dikit\n"
     ]
    }
   ],
   "source": [
    "if (berat_badan > 100):\n",
    "    print('berat kamu kelebihan nih, workout ya')\n",
    "elif( berat_badan >= 70 and berat_badan <= 100):\n",
    "    print('perlu diet lagi kamu nih')\n",
    "elif( berat_badan >= 40 and berat_badan <= 69):\n",
    "    print('berat badannya sudah cukup ideal nih, selamat :D')\n",
    "elif(berat_badan >= 30 and berat_badan <= 39):\n",
    "    print('kamu perlu naikin badan lagi dikit')\n",
    "else:\n",
    "    print('berat kamu terlalu kurus, makan yang banyakkk ya')"
   ]
  },
  {
   "cell_type": "markdown",
   "id": "044b304a",
   "metadata": {},
   "source": [
    " "
   ]
  }
 ],
 "metadata": {
  "kernelspec": {
   "display_name": "Python 3 (ipykernel)",
   "language": "python",
   "name": "python3"
  },
  "language_info": {
   "codemirror_mode": {
    "name": "ipython",
    "version": 3
   },
   "file_extension": ".py",
   "mimetype": "text/x-python",
   "name": "python",
   "nbconvert_exporter": "python",
   "pygments_lexer": "ipython3",
   "version": "3.9.12"
  }
 },
 "nbformat": 4,
 "nbformat_minor": 5
}
