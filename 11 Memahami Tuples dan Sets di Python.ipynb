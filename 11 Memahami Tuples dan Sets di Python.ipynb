{
 "cells": [
  {
   "cell_type": "markdown",
   "id": "743f5e9e",
   "metadata": {},
   "source": [
    "## Tuples \n",
    "tipe data yang bersifat immutable (tidak bisa diubah)"
   ]
  },
  {
   "cell_type": "code",
   "execution_count": 1,
   "id": "05133759",
   "metadata": {},
   "outputs": [],
   "source": [
    "keranjang = 1,2,3,4,5"
   ]
  },
  {
   "cell_type": "code",
   "execution_count": 2,
   "id": "1f8cd374",
   "metadata": {},
   "outputs": [
    {
     "data": {
      "text/plain": [
       "(1, 2, 3, 4, 5)"
      ]
     },
     "execution_count": 2,
     "metadata": {},
     "output_type": "execute_result"
    }
   ],
   "source": [
    "keranjang"
   ]
  },
  {
   "cell_type": "code",
   "execution_count": 3,
   "id": "08bd02d5",
   "metadata": {},
   "outputs": [
    {
     "data": {
      "text/plain": [
       "tuple"
      ]
     },
     "execution_count": 3,
     "metadata": {},
     "output_type": "execute_result"
    }
   ],
   "source": [
    "type(keranjang)"
   ]
  },
  {
   "cell_type": "code",
   "execution_count": 4,
   "id": "5101fc24",
   "metadata": {},
   "outputs": [],
   "source": [
    "t1 = (1,2,3,4,'a','c')"
   ]
  },
  {
   "cell_type": "code",
   "execution_count": 5,
   "id": "0e5e1aa0",
   "metadata": {},
   "outputs": [
    {
     "data": {
      "text/plain": [
       "tuple"
      ]
     },
     "execution_count": 5,
     "metadata": {},
     "output_type": "execute_result"
    }
   ],
   "source": [
    "type(t1)"
   ]
  },
  {
   "cell_type": "code",
   "execution_count": 10,
   "id": "2c9796b4",
   "metadata": {},
   "outputs": [],
   "source": [
    "t2 = list(t1)"
   ]
  },
  {
   "cell_type": "code",
   "execution_count": 11,
   "id": "e8edbd4b",
   "metadata": {},
   "outputs": [
    {
     "data": {
      "text/plain": [
       "(1, 2, 3, 4, 'a', 'c')"
      ]
     },
     "execution_count": 11,
     "metadata": {},
     "output_type": "execute_result"
    }
   ],
   "source": [
    "t1"
   ]
  },
  {
   "cell_type": "code",
   "execution_count": 12,
   "id": "9a3f7138",
   "metadata": {},
   "outputs": [
    {
     "data": {
      "text/plain": [
       "[1, 2, 3, 4, 'a', 'c']"
      ]
     },
     "execution_count": 12,
     "metadata": {},
     "output_type": "execute_result"
    }
   ],
   "source": [
    "t2"
   ]
  },
  {
   "cell_type": "code",
   "execution_count": 13,
   "id": "4140ff6d",
   "metadata": {},
   "outputs": [],
   "source": [
    "t2[1] = 'A'"
   ]
  },
  {
   "cell_type": "code",
   "execution_count": 16,
   "id": "7ce45d8b",
   "metadata": {},
   "outputs": [],
   "source": [
    "t1 = tuple(t2)"
   ]
  },
  {
   "cell_type": "code",
   "execution_count": 18,
   "id": "d77573c7",
   "metadata": {},
   "outputs": [
    {
     "data": {
      "text/plain": [
       "(1, 'A', 3, 4, 'a', 'c')"
      ]
     },
     "execution_count": 18,
     "metadata": {},
     "output_type": "execute_result"
    }
   ],
   "source": [
    "t1"
   ]
  },
  {
   "cell_type": "code",
   "execution_count": 19,
   "id": "296ebe98",
   "metadata": {},
   "outputs": [],
   "source": [
    "buah = 'semangka','jeruk','nanas','apel'"
   ]
  },
  {
   "cell_type": "code",
   "execution_count": 20,
   "id": "89c13d29",
   "metadata": {},
   "outputs": [
    {
     "data": {
      "text/plain": [
       "('semangka', 'jeruk', 'nanas', 'apel')"
      ]
     },
     "execution_count": 20,
     "metadata": {},
     "output_type": "execute_result"
    }
   ],
   "source": [
    "buah"
   ]
  },
  {
   "cell_type": "code",
   "execution_count": 21,
   "id": "b25c0a31",
   "metadata": {},
   "outputs": [],
   "source": [
    "buah = buah[0],buah[1],'none',buah[3]"
   ]
  },
  {
   "cell_type": "code",
   "execution_count": 22,
   "id": "dfb5a2c9",
   "metadata": {},
   "outputs": [
    {
     "data": {
      "text/plain": [
       "('semangka', 'jeruk', 'none', 'apel')"
      ]
     },
     "execution_count": 22,
     "metadata": {},
     "output_type": "execute_result"
    }
   ],
   "source": [
    "buah"
   ]
  },
  {
   "cell_type": "code",
   "execution_count": null,
   "id": "b38d2072",
   "metadata": {},
   "outputs": [],
   "source": []
  },
  {
   "cell_type": "markdown",
   "id": "11ca84e4",
   "metadata": {},
   "source": [
    "## Method Tuples"
   ]
  },
  {
   "cell_type": "code",
   "execution_count": 25,
   "id": "b9cf81c6",
   "metadata": {},
   "outputs": [],
   "source": [
    "t3 = 1,2,3,4,5,6,2,3,4,5,6,1,2,3,4,5,6"
   ]
  },
  {
   "cell_type": "code",
   "execution_count": 27,
   "id": "48e1b055",
   "metadata": {},
   "outputs": [
    {
     "data": {
      "text/plain": [
       "3"
      ]
     },
     "execution_count": 27,
     "metadata": {},
     "output_type": "execute_result"
    }
   ],
   "source": [
    "t3.count(2)"
   ]
  },
  {
   "cell_type": "code",
   "execution_count": 29,
   "id": "678b1448",
   "metadata": {},
   "outputs": [
    {
     "data": {
      "text/plain": [
       "5"
      ]
     },
     "execution_count": 29,
     "metadata": {},
     "output_type": "execute_result"
    }
   ],
   "source": [
    "t3.index(6)"
   ]
  },
  {
   "cell_type": "code",
   "execution_count": null,
   "id": "ab6c90e8",
   "metadata": {},
   "outputs": [],
   "source": []
  },
  {
   "cell_type": "markdown",
   "id": "1e57e08b",
   "metadata": {},
   "source": [
    "### Multiple Assigment & Tuples"
   ]
  },
  {
   "cell_type": "code",
   "execution_count": 31,
   "id": "3e3d2248",
   "metadata": {},
   "outputs": [],
   "source": [
    "a,b,c,d = 1,2,3,4"
   ]
  },
  {
   "cell_type": "code",
   "execution_count": 36,
   "id": "54c5259b",
   "metadata": {},
   "outputs": [],
   "source": [
    "# a = b = c = d = 'urutan'"
   ]
  },
  {
   "cell_type": "code",
   "execution_count": 40,
   "id": "8da5c9ba",
   "metadata": {},
   "outputs": [
    {
     "data": {
      "text/plain": [
       "'urutan'"
      ]
     },
     "execution_count": 40,
     "metadata": {},
     "output_type": "execute_result"
    }
   ],
   "source": [
    "a"
   ]
  },
  {
   "cell_type": "code",
   "execution_count": 38,
   "id": "4eb2ee09",
   "metadata": {},
   "outputs": [],
   "source": [
    "a,b,c,d = d,c,b,a"
   ]
  },
  {
   "cell_type": "code",
   "execution_count": 39,
   "id": "90eff507",
   "metadata": {},
   "outputs": [
    {
     "data": {
      "text/plain": [
       "'urutan'"
      ]
     },
     "execution_count": 39,
     "metadata": {},
     "output_type": "execute_result"
    }
   ],
   "source": [
    "a"
   ]
  },
  {
   "cell_type": "code",
   "execution_count": 41,
   "id": "7165315c",
   "metadata": {},
   "outputs": [],
   "source": [
    "a,b,c,d = 1,2,3,4"
   ]
  },
  {
   "cell_type": "code",
   "execution_count": 42,
   "id": "54447e4d",
   "metadata": {},
   "outputs": [],
   "source": [
    "a,b,c,d = d,c,b,a"
   ]
  },
  {
   "cell_type": "code",
   "execution_count": 43,
   "id": "8581aece",
   "metadata": {},
   "outputs": [
    {
     "data": {
      "text/plain": [
       "4"
      ]
     },
     "execution_count": 43,
     "metadata": {},
     "output_type": "execute_result"
    }
   ],
   "source": [
    "a"
   ]
  },
  {
   "cell_type": "code",
   "execution_count": 44,
   "id": "5620b5e2",
   "metadata": {},
   "outputs": [],
   "source": [
    "tas = ('rambutan', 41, 9.8,[1,2,3,4])"
   ]
  },
  {
   "cell_type": "code",
   "execution_count": 45,
   "id": "6b27d657",
   "metadata": {},
   "outputs": [],
   "source": [
    "item1,item2,item3,item4 = tas"
   ]
  },
  {
   "cell_type": "code",
   "execution_count": 46,
   "id": "f8459626",
   "metadata": {},
   "outputs": [
    {
     "data": {
      "text/plain": [
       "'rambutan'"
      ]
     },
     "execution_count": 46,
     "metadata": {},
     "output_type": "execute_result"
    }
   ],
   "source": [
    "item1"
   ]
  },
  {
   "cell_type": "code",
   "execution_count": null,
   "id": "3ebe2b93",
   "metadata": {},
   "outputs": [],
   "source": []
  },
  {
   "cell_type": "code",
   "execution_count": null,
   "id": "51b4db0b",
   "metadata": {},
   "outputs": [],
   "source": []
  },
  {
   "cell_type": "markdown",
   "id": "d9ba3363",
   "metadata": {},
   "source": [
    "## Sets\n",
    "\n",
    "tipe data yang unik  yang tidak ada data yang sama dan tidak berurutan"
   ]
  },
  {
   "cell_type": "code",
   "execution_count": 47,
   "id": "10c4fb9a",
   "metadata": {},
   "outputs": [],
   "source": [
    "set1 = set()"
   ]
  },
  {
   "cell_type": "code",
   "execution_count": 49,
   "id": "c181cb07",
   "metadata": {},
   "outputs": [
    {
     "data": {
      "text/plain": [
       "set()"
      ]
     },
     "execution_count": 49,
     "metadata": {},
     "output_type": "execute_result"
    }
   ],
   "source": [
    "set1"
   ]
  },
  {
   "cell_type": "code",
   "execution_count": 51,
   "id": "70181ebd",
   "metadata": {},
   "outputs": [],
   "source": [
    "set1.add('biru')"
   ]
  },
  {
   "cell_type": "code",
   "execution_count": 52,
   "id": "22e80ab0",
   "metadata": {},
   "outputs": [
    {
     "data": {
      "text/plain": [
       "{'biru'}"
      ]
     },
     "execution_count": 52,
     "metadata": {},
     "output_type": "execute_result"
    }
   ],
   "source": [
    "set1"
   ]
  },
  {
   "cell_type": "code",
   "execution_count": 53,
   "id": "8481e2fc",
   "metadata": {},
   "outputs": [],
   "source": [
    "list_angka =[1,1,1,2,3,3,3,4,5,5,6,6,7,7,8]"
   ]
  },
  {
   "cell_type": "code",
   "execution_count": 54,
   "id": "55abf045",
   "metadata": {},
   "outputs": [],
   "source": [
    "list_angka = set(list_angka)"
   ]
  },
  {
   "cell_type": "code",
   "execution_count": 55,
   "id": "7e9f6d9f",
   "metadata": {},
   "outputs": [
    {
     "data": {
      "text/plain": [
       "{1, 2, 3, 4, 5, 6, 7, 8}"
      ]
     },
     "execution_count": 55,
     "metadata": {},
     "output_type": "execute_result"
    }
   ],
   "source": [
    "list_angka"
   ]
  },
  {
   "cell_type": "code",
   "execution_count": null,
   "id": "618042c4",
   "metadata": {},
   "outputs": [],
   "source": []
  }
 ],
 "metadata": {
  "kernelspec": {
   "display_name": "Python 3 (ipykernel)",
   "language": "python",
   "name": "python3"
  },
  "language_info": {
   "codemirror_mode": {
    "name": "ipython",
    "version": 3
   },
   "file_extension": ".py",
   "mimetype": "text/x-python",
   "name": "python",
   "nbconvert_exporter": "python",
   "pygments_lexer": "ipython3",
   "version": "3.9.12"
  }
 },
 "nbformat": 4,
 "nbformat_minor": 5
}
