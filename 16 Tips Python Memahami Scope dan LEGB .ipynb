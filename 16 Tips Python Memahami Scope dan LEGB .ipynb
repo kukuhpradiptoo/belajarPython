{
 "cells": [
  {
   "cell_type": "code",
   "execution_count": 9,
   "id": "d962b04d",
   "metadata": {},
   "outputs": [],
   "source": [
    "a = 1000 # global varibael\n",
    "\n",
    "def jumlah():\n",
    "    a = 79\n",
    "    return a"
   ]
  },
  {
   "cell_type": "code",
   "execution_count": 8,
   "id": "8426b4ed",
   "metadata": {},
   "outputs": [
    {
     "name": "stdout",
     "output_type": "stream",
     "text": [
      "1000\n"
     ]
    }
   ],
   "source": [
    "print(a)"
   ]
  },
  {
   "cell_type": "markdown",
   "id": "06de7b38",
   "metadata": {},
   "source": [
    "## Urutan eksekusi Python"
   ]
  },
  {
   "cell_type": "markdown",
   "id": "9294e065",
   "metadata": {},
   "source": [
    "L (Local) = variabel yang bersifal local, yang biasanya berada didalam fungsi(def/lambda) tertentu.\n",
    "\n",
    "E (Enclosing function local) = veriabel ini berada di dalam fungsi (def/lambda) mulai dari lingkung terdalam hingga keluar\n",
    "\n",
    "G (Global) = variabel ini didefinisikan diluar, biasanya ditahab awal \n",
    "\n",
    "B (Buil-in) = variabel bawaan Python, seperti list, str, upper, dll"
   ]
  },
  {
   "cell_type": "code",
   "execution_count": 13,
   "id": "39fa716c",
   "metadata": {},
   "outputs": [
    {
     "name": "stdout",
     "output_type": "stream",
     "text": [
      "79\n"
     ]
    }
   ],
   "source": [
    "print (jumlah())"
   ]
  },
  {
   "cell_type": "code",
   "execution_count": 15,
   "id": "5bd1ec0d",
   "metadata": {},
   "outputs": [],
   "source": [
    "kalimat = 'saya adalah GLOBAL'\n",
    "\n",
    "def cetak():\n",
    "    kalimat = 'saya adalah LOCAL'\n",
    "    \n",
    "    def eksekusi():\n",
    "        print('halo hasilnya adalah', kalimat)\n",
    "    eksekusi()"
   ]
  },
  {
   "cell_type": "code",
   "execution_count": 16,
   "id": "49a59422",
   "metadata": {},
   "outputs": [
    {
     "name": "stdout",
     "output_type": "stream",
     "text": [
      "halo hasilnya adalah saya adalah LOCAL\n"
     ]
    }
   ],
   "source": [
    "cetak()"
   ]
  },
  {
   "cell_type": "code",
   "execution_count": 24,
   "id": "3b3ae755",
   "metadata": {},
   "outputs": [],
   "source": [
    "kalimat = 'saya adalah GLOBAL'\n",
    "\n",
    "def cetak():\n",
    "    #kalimat = 'saya adalah LOCAL'\n",
    "    \n",
    "    def eksekusi():\n",
    "        #kalimat = 'makan'\n",
    "        print('halo hasilnya adalah', kalimat)\n",
    "    eksekusi()"
   ]
  },
  {
   "cell_type": "code",
   "execution_count": 25,
   "id": "6f785ee3",
   "metadata": {},
   "outputs": [
    {
     "name": "stdout",
     "output_type": "stream",
     "text": [
      "halo hasilnya adalah saya adalah GLOBAL\n"
     ]
    }
   ],
   "source": [
    "cetak()"
   ]
  },
  {
   "cell_type": "code",
   "execution_count": 26,
   "id": "4619c1df",
   "metadata": {},
   "outputs": [],
   "source": [
    "kalimat = 'saya adalah GLOBAL'\n",
    "\n",
    "def cetak():\n",
    "    kalimat = 'saya adalah LOCAL'\n",
    "    \n",
    "    def eksekusi():\n",
    "        kalimat = 'saya itu lokal banget Banget '\n",
    "        print('halo hasilnya adalah', kalimat)\n",
    "    eksekusi()"
   ]
  },
  {
   "cell_type": "code",
   "execution_count": 27,
   "id": "78f1c233",
   "metadata": {},
   "outputs": [
    {
     "name": "stdout",
     "output_type": "stream",
     "text": [
      "halo hasilnya adalah saya itu lokal banget \n"
     ]
    }
   ],
   "source": [
    "cetak()"
   ]
  },
  {
   "cell_type": "code",
   "execution_count": null,
   "id": "178f6cfb",
   "metadata": {},
   "outputs": [],
   "source": []
  },
  {
   "cell_type": "markdown",
   "id": "81be02bc",
   "metadata": {},
   "source": [
    "## Advance Materi"
   ]
  },
  {
   "cell_type": "code",
   "execution_count": 28,
   "id": "09a40ee1",
   "metadata": {},
   "outputs": [],
   "source": [
    "angka = 99"
   ]
  },
  {
   "cell_type": "code",
   "execution_count": 31,
   "id": "ca9d4b71",
   "metadata": {},
   "outputs": [],
   "source": [
    "def tulis(angka):\n",
    "    global angka\n",
    "    print(f'Angka = {angka}')\n",
    "    #print('Angka = {}.format{angka}')\n",
    "    \n",
    "    #mendefinisikan ulang sebuah variabel di fungsi\n",
    "    angka = 200\n",
    "    print(f'angkanya sekarang berubah menjadi {angka}')"
   ]
  },
  {
   "cell_type": "code",
   "execution_count": 32,
   "id": "e4ca292c",
   "metadata": {},
   "outputs": [
    {
     "name": "stdout",
     "output_type": "stream",
     "text": [
      "Angka = 99\n",
      "angkanya sekarang berubah menjadi 200\n"
     ]
    }
   ],
   "source": [
    "tulis(angka)"
   ]
  },
  {
   "cell_type": "code",
   "execution_count": 33,
   "id": "519b929c",
   "metadata": {},
   "outputs": [
    {
     "name": "stdout",
     "output_type": "stream",
     "text": [
      "99\n"
     ]
    }
   ],
   "source": [
    "print(angka)"
   ]
  },
  {
   "cell_type": "code",
   "execution_count": 53,
   "id": "586433a9",
   "metadata": {},
   "outputs": [],
   "source": [
    "angka = 99 \n",
    "\n",
    "def tulis(angka):\n",
    "    #mendefinisikan ulang sebuah variabel di fungsi\n",
    "    angka = 'Ganti nih'\n",
    "    print(f'angkanya sekarang berubah menjadi {angka}')\n",
    "    return angka"
   ]
  },
  {
   "cell_type": "code",
   "execution_count": 54,
   "id": "867030ee",
   "metadata": {},
   "outputs": [
    {
     "name": "stdout",
     "output_type": "stream",
     "text": [
      "angkanya sekarang berubah menjadi Ganti nih\n"
     ]
    }
   ],
   "source": [
    "angka = tulis(angka)"
   ]
  },
  {
   "cell_type": "code",
   "execution_count": 55,
   "id": "a650f0cc",
   "metadata": {},
   "outputs": [
    {
     "name": "stdout",
     "output_type": "stream",
     "text": [
      "Ganti nih\n"
     ]
    }
   ],
   "source": [
    "print(angka)"
   ]
  },
  {
   "cell_type": "code",
   "execution_count": null,
   "id": "918cdd7a",
   "metadata": {},
   "outputs": [],
   "source": []
  }
 ],
 "metadata": {
  "kernelspec": {
   "display_name": "Python 3 (ipykernel)",
   "language": "python",
   "name": "python3"
  },
  "language_info": {
   "codemirror_mode": {
    "name": "ipython",
    "version": 3
   },
   "file_extension": ".py",
   "mimetype": "text/x-python",
   "name": "python",
   "nbconvert_exporter": "python",
   "pygments_lexer": "ipython3",
   "version": "3.9.12"
  }
 },
 "nbformat": 4,
 "nbformat_minor": 5
}
