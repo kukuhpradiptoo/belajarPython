{
 "cells": [
  {
   "cell_type": "code",
   "execution_count": 23,
   "id": "52327b34",
   "metadata": {},
   "outputs": [],
   "source": [
    "class Elektronik:\n",
    "    \n",
    "    #class object atribut (attribute bersifat global untuk class Elektronik)\n",
    "    penjual = 'Mamat'\n",
    "    \n",
    "    def __init__(self,merek,harga,jumlah):\n",
    "        self.merek = merek\n",
    "        self.harga = harga\n",
    "        self.jumlah = jumlah\n",
    "        self.warna = \"coklat\"\n",
    "        \n",
    "    def keterangan(self, anak):\n",
    "        print(' Elektronik merek {} harga {} dijual oleh {} yang punya anak {}'.format(self.merek, self.harga, self.penjual, anak))"
   ]
  },
  {
   "cell_type": "code",
   "execution_count": 24,
   "id": "04e639a1",
   "metadata": {},
   "outputs": [],
   "source": [
    "barang = Elektronik('LG',200,9)"
   ]
  },
  {
   "cell_type": "code",
   "execution_count": 27,
   "id": "279b7aa9",
   "metadata": {},
   "outputs": [
    {
     "name": "stdout",
     "output_type": "stream",
     "text": [
      " Elektronik merek LG harga 200 dijual oleh Mamat yang punya anak siti\n"
     ]
    }
   ],
   "source": [
    "barang.keterangan(\"siti\") # tanda kurung untuk atribut yang tidak di init"
   ]
  },
  {
   "cell_type": "code",
   "execution_count": null,
   "id": "f567ce64",
   "metadata": {},
   "outputs": [],
   "source": [
    "  "
   ]
  },
  {
   "cell_type": "code",
   "execution_count": null,
   "id": "5722dfd2",
   "metadata": {},
   "outputs": [],
   "source": []
  },
  {
   "cell_type": "code",
   "execution_count": null,
   "id": "67521f8a",
   "metadata": {},
   "outputs": [],
   "source": []
  },
  {
   "cell_type": "markdown",
   "id": "6bd085b0",
   "metadata": {},
   "source": [
    "## Serius"
   ]
  },
  {
   "cell_type": "code",
   "execution_count": 32,
   "id": "461324be",
   "metadata": {},
   "outputs": [],
   "source": [
    "class Lingkaran:\n",
    "    #koefisien phi\n",
    "    phi = 3.14\n",
    "    \n",
    "    def __init__(self, radius):\n",
    "        self.radius = radius\n",
    "        \n",
    "    def keliling(self):\n",
    "        return 2*self.phi*self.radius\n",
    "    \n",
    "    def luas(self):\n",
    "        return 2*self.phi*self.radius*self.radius"
   ]
  },
  {
   "cell_type": "code",
   "execution_count": 33,
   "id": "be41053a",
   "metadata": {},
   "outputs": [],
   "source": [
    "l1 = Lingkaran(10)"
   ]
  },
  {
   "cell_type": "code",
   "execution_count": 34,
   "id": "f94794be",
   "metadata": {},
   "outputs": [
    {
     "data": {
      "text/plain": [
       "62.800000000000004"
      ]
     },
     "execution_count": 34,
     "metadata": {},
     "output_type": "execute_result"
    }
   ],
   "source": [
    "l1.keliling()"
   ]
  },
  {
   "cell_type": "code",
   "execution_count": 35,
   "id": "3b31f87f",
   "metadata": {},
   "outputs": [
    {
     "data": {
      "text/plain": [
       "628.0"
      ]
     },
     "execution_count": 35,
     "metadata": {},
     "output_type": "execute_result"
    }
   ],
   "source": [
    "l1.luas()"
   ]
  },
  {
   "cell_type": "code",
   "execution_count": 37,
   "id": "a4f7168c",
   "metadata": {},
   "outputs": [],
   "source": [
    "class Lingkaran:\n",
    "    #koefisien phi\n",
    "    phi = 3.14\n",
    "    \n",
    "    def __init__(self, radius):\n",
    "        self.radius = radius\n",
    "        self.luas = 2*self.phi*radius*radius\n",
    "        \n",
    "    def keliling(self):\n",
    "        return 2*self.phi*self.radius"
   ]
  },
  {
   "cell_type": "code",
   "execution_count": 38,
   "id": "d7a89ce4",
   "metadata": {},
   "outputs": [],
   "source": [
    "l2 = Lingkaran(30)"
   ]
  },
  {
   "cell_type": "code",
   "execution_count": 42,
   "id": "bd97f352",
   "metadata": {},
   "outputs": [
    {
     "data": {
      "text/plain": [
       "5652.0"
      ]
     },
     "execution_count": 42,
     "metadata": {},
     "output_type": "execute_result"
    }
   ],
   "source": [
    "l2.luas"
   ]
  },
  {
   "cell_type": "code",
   "execution_count": null,
   "id": "77b4ceb2",
   "metadata": {},
   "outputs": [],
   "source": []
  },
  {
   "cell_type": "markdown",
   "id": "f19bf456",
   "metadata": {},
   "source": [
    "## Inheritance"
   ]
  },
  {
   "cell_type": "code",
   "execution_count": 1,
   "id": "2cba17b1",
   "metadata": {},
   "outputs": [],
   "source": [
    "class Mahasiswa:\n",
    "    \n",
    "    status = 'mahasiswa'\n",
    "    \n",
    "    def __init__(self, nama, kelas):\n",
    "        self.nama = nama\n",
    "        self.kelas = kelas\n",
    "        \n",
    "    def keterangan(self):\n",
    "        print('{} dikelas {} seorang {}'.format(self.nama, self.kelas, self.status))"
   ]
  },
  {
   "cell_type": "code",
   "execution_count": 2,
   "id": "870e7f38",
   "metadata": {},
   "outputs": [],
   "source": [
    "joko = Mahasiswa('Joko', 12)"
   ]
  },
  {
   "cell_type": "code",
   "execution_count": 3,
   "id": "6d1fa16b",
   "metadata": {},
   "outputs": [
    {
     "name": "stdout",
     "output_type": "stream",
     "text": [
      "Joko dikelas 12 seorang mahasiswa\n"
     ]
    }
   ],
   "source": [
    "joko.keterangan()"
   ]
  },
  {
   "cell_type": "code",
   "execution_count": 8,
   "id": "9054ad6d",
   "metadata": {},
   "outputs": [],
   "source": [
    "class Nilai(Mahasiswa):\n",
    "    \n",
    "        def __init__(self, nama, kelas):\n",
    "            super().__init__(nama,kelas) # Mahasiswa.__init__(nama, kelas)\n",
    "            self.nilai_update = []\n",
    "            \n",
    "        def input_nilai(self, tambah):\n",
    "            return self.nilai_update.append(tambah)"
   ]
  },
  {
   "cell_type": "code",
   "execution_count": 9,
   "id": "dc81bc9a",
   "metadata": {},
   "outputs": [],
   "source": [
    "budi = Nilai('Budi', 13)"
   ]
  },
  {
   "cell_type": "code",
   "execution_count": 10,
   "id": "fa1390b8",
   "metadata": {},
   "outputs": [
    {
     "name": "stdout",
     "output_type": "stream",
     "text": [
      "Budi dikelas 13 seorang mahasiswa\n"
     ]
    }
   ],
   "source": [
    "budi.keterangan()"
   ]
  },
  {
   "cell_type": "code",
   "execution_count": 11,
   "id": "29d3cdde",
   "metadata": {},
   "outputs": [],
   "source": [
    "budi.input_nilai(70)"
   ]
  },
  {
   "cell_type": "code",
   "execution_count": 13,
   "id": "0963815d",
   "metadata": {},
   "outputs": [
    {
     "data": {
      "text/plain": [
       "[70]"
      ]
     },
     "execution_count": 13,
     "metadata": {},
     "output_type": "execute_result"
    }
   ],
   "source": [
    "budi.nilai_update"
   ]
  },
  {
   "cell_type": "code",
   "execution_count": 14,
   "id": "f4e3e665",
   "metadata": {},
   "outputs": [],
   "source": [
    "budi.input_nilai(90)"
   ]
  },
  {
   "cell_type": "code",
   "execution_count": 15,
   "id": "e0eb946c",
   "metadata": {},
   "outputs": [
    {
     "data": {
      "text/plain": [
       "[70, 90]"
      ]
     },
     "execution_count": 15,
     "metadata": {},
     "output_type": "execute_result"
    }
   ],
   "source": [
    "budi.nilai_update"
   ]
  },
  {
   "cell_type": "code",
   "execution_count": null,
   "id": "f182718a",
   "metadata": {},
   "outputs": [],
   "source": []
  }
 ],
 "metadata": {
  "kernelspec": {
   "display_name": "Python 3 (ipykernel)",
   "language": "python",
   "name": "python3"
  },
  "language_info": {
   "codemirror_mode": {
    "name": "ipython",
    "version": 3
   },
   "file_extension": ".py",
   "mimetype": "text/x-python",
   "name": "python",
   "nbconvert_exporter": "python",
   "pygments_lexer": "ipython3",
   "version": "3.9.12"
  }
 },
 "nbformat": 4,
 "nbformat_minor": 5
}
