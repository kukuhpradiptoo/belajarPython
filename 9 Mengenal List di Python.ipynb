{
 "cells": [
  {
   "cell_type": "code",
   "execution_count": 16,
   "id": "a545511e",
   "metadata": {},
   "outputs": [],
   "source": [
    "keranjang = [1,2,3,4,'a']"
   ]
  },
  {
   "cell_type": "code",
   "execution_count": 17,
   "id": "2e4139ed",
   "metadata": {},
   "outputs": [
    {
     "data": {
      "text/plain": [
       "5"
      ]
     },
     "execution_count": 17,
     "metadata": {},
     "output_type": "execute_result"
    }
   ],
   "source": [
    "len(keranjang)"
   ]
  },
  {
   "cell_type": "code",
   "execution_count": 18,
   "id": "3d4fcb73",
   "metadata": {},
   "outputs": [
    {
     "name": "stdout",
     "output_type": "stream",
     "text": [
      "1\n",
      "2\n",
      "3\n",
      "4\n",
      "a\n"
     ]
    }
   ],
   "source": [
    "for i in range(len(kerangjang)):\n",
    "    print(keranjang[i])"
   ]
  },
  {
   "cell_type": "code",
   "execution_count": 19,
   "id": "63dffc5f",
   "metadata": {},
   "outputs": [
    {
     "name": "stdout",
     "output_type": "stream",
     "text": [
      "1\n",
      "2\n",
      "3\n"
     ]
    }
   ],
   "source": [
    "for i in range(0,3):\n",
    "    print(keranjang[i])"
   ]
  },
  {
   "cell_type": "code",
   "execution_count": 20,
   "id": "c2c77273",
   "metadata": {},
   "outputs": [],
   "source": [
    "keranjang[0] = \"saya\""
   ]
  },
  {
   "cell_type": "code",
   "execution_count": 21,
   "id": "13de5efc",
   "metadata": {},
   "outputs": [
    {
     "data": {
      "text/plain": [
       "['saya', 2, 3, 4, 'a']"
      ]
     },
     "execution_count": 21,
     "metadata": {},
     "output_type": "execute_result"
    }
   ],
   "source": [
    "keranjang"
   ]
  },
  {
   "cell_type": "code",
   "execution_count": 22,
   "id": "7995a552",
   "metadata": {},
   "outputs": [],
   "source": [
    "keranjang.append('pisang')"
   ]
  },
  {
   "cell_type": "code",
   "execution_count": 23,
   "id": "5d272711",
   "metadata": {},
   "outputs": [
    {
     "data": {
      "text/plain": [
       "['saya', 2, 3, 4, 'a', 'pisang']"
      ]
     },
     "execution_count": 23,
     "metadata": {},
     "output_type": "execute_result"
    }
   ],
   "source": [
    "keranjang"
   ]
  },
  {
   "cell_type": "code",
   "execution_count": 24,
   "id": "aecec47f",
   "metadata": {},
   "outputs": [],
   "source": [
    "buah = ['mangga','apel','nanas']"
   ]
  },
  {
   "cell_type": "code",
   "execution_count": 25,
   "id": "a3dae194",
   "metadata": {},
   "outputs": [],
   "source": [
    "keranjang += buah"
   ]
  },
  {
   "cell_type": "code",
   "execution_count": 26,
   "id": "312279c5",
   "metadata": {},
   "outputs": [
    {
     "data": {
      "text/plain": [
       "['saya', 2, 3, 4, 'a', 'pisang', 'mangga', 'apel', 'nanas']"
      ]
     },
     "execution_count": 26,
     "metadata": {},
     "output_type": "execute_result"
    }
   ],
   "source": [
    "keranjang"
   ]
  },
  {
   "cell_type": "code",
   "execution_count": 27,
   "id": "0bdc3368",
   "metadata": {},
   "outputs": [
    {
     "data": {
      "text/plain": [
       "9"
      ]
     },
     "execution_count": 27,
     "metadata": {},
     "output_type": "execute_result"
    }
   ],
   "source": [
    "len(keranjang)"
   ]
  },
  {
   "cell_type": "code",
   "execution_count": 28,
   "id": "4e959fb8",
   "metadata": {},
   "outputs": [],
   "source": [
    "no_agen = [1,2,3,4,5,6,7,8,9]"
   ]
  },
  {
   "cell_type": "code",
   "execution_count": 29,
   "id": "ab780639",
   "metadata": {},
   "outputs": [
    {
     "data": {
      "text/plain": [
       "9"
      ]
     },
     "execution_count": 29,
     "metadata": {},
     "output_type": "execute_result"
    }
   ],
   "source": [
    "no_agen.pop()"
   ]
  },
  {
   "cell_type": "code",
   "execution_count": 30,
   "id": "0f88bf8e",
   "metadata": {},
   "outputs": [
    {
     "data": {
      "text/plain": [
       "[1, 2, 3, 4, 5, 6, 7, 8]"
      ]
     },
     "execution_count": 30,
     "metadata": {},
     "output_type": "execute_result"
    }
   ],
   "source": [
    "no_agen"
   ]
  },
  {
   "cell_type": "code",
   "execution_count": 31,
   "id": "bfb73258",
   "metadata": {},
   "outputs": [
    {
     "data": {
      "text/plain": [
       "5"
      ]
     },
     "execution_count": 31,
     "metadata": {},
     "output_type": "execute_result"
    }
   ],
   "source": [
    "no_agen.pop(4)"
   ]
  },
  {
   "cell_type": "code",
   "execution_count": 32,
   "id": "b6b1b14f",
   "metadata": {},
   "outputs": [
    {
     "data": {
      "text/plain": [
       "[1, 2, 3, 4, 6, 7, 8]"
      ]
     },
     "execution_count": 32,
     "metadata": {},
     "output_type": "execute_result"
    }
   ],
   "source": [
    "no_agen"
   ]
  },
  {
   "cell_type": "code",
   "execution_count": 33,
   "id": "881247e7",
   "metadata": {},
   "outputs": [],
   "source": [
    "no_agen_rsn = no_agen.pop(3)"
   ]
  },
  {
   "cell_type": "code",
   "execution_count": 34,
   "id": "0e7415c0",
   "metadata": {},
   "outputs": [
    {
     "data": {
      "text/plain": [
       "4"
      ]
     },
     "execution_count": 34,
     "metadata": {},
     "output_type": "execute_result"
    }
   ],
   "source": [
    "no_agen_rsn"
   ]
  },
  {
   "cell_type": "code",
   "execution_count": 35,
   "id": "4812c65e",
   "metadata": {},
   "outputs": [
    {
     "data": {
      "text/plain": [
       "[1, 2, 3, 6, 7, 8]"
      ]
     },
     "execution_count": 35,
     "metadata": {},
     "output_type": "execute_result"
    }
   ],
   "source": [
    "no_agen"
   ]
  },
  {
   "cell_type": "code",
   "execution_count": 41,
   "id": "9dde3809",
   "metadata": {},
   "outputs": [],
   "source": [
    "variable = [1,4,7,2,3,9,12]"
   ]
  },
  {
   "cell_type": "code",
   "execution_count": 42,
   "id": "3ab753ea",
   "metadata": {},
   "outputs": [],
   "source": [
    "variable.sort()"
   ]
  },
  {
   "cell_type": "code",
   "execution_count": 43,
   "id": "6fc34dd4",
   "metadata": {},
   "outputs": [
    {
     "data": {
      "text/plain": [
       "[1, 2, 3, 4, 7, 9, 12]"
      ]
     },
     "execution_count": 43,
     "metadata": {},
     "output_type": "execute_result"
    }
   ],
   "source": [
    "variable"
   ]
  },
  {
   "cell_type": "code",
   "execution_count": 44,
   "id": "51c37fc5",
   "metadata": {},
   "outputs": [],
   "source": [
    "var_baru = variable"
   ]
  },
  {
   "cell_type": "code",
   "execution_count": 45,
   "id": "12695569",
   "metadata": {},
   "outputs": [],
   "source": [
    "var_baru.reverse()"
   ]
  },
  {
   "cell_type": "code",
   "execution_count": 46,
   "id": "61c07a75",
   "metadata": {},
   "outputs": [
    {
     "data": {
      "text/plain": [
       "[12, 9, 7, 4, 3, 2, 1]"
      ]
     },
     "execution_count": 46,
     "metadata": {},
     "output_type": "execute_result"
    }
   ],
   "source": [
    "var_baru"
   ]
  },
  {
   "cell_type": "code",
   "execution_count": null,
   "id": "8c3521af",
   "metadata": {},
   "outputs": [],
   "source": []
  },
  {
   "cell_type": "code",
   "execution_count": null,
   "id": "54b2842f",
   "metadata": {},
   "outputs": [],
   "source": []
  },
  {
   "cell_type": "markdown",
   "id": "3c9ef56d",
   "metadata": {},
   "source": [
    "## Nested List"
   ]
  },
  {
   "cell_type": "code",
   "execution_count": 47,
   "id": "489de039",
   "metadata": {},
   "outputs": [],
   "source": [
    "isi = [1,2,3,4,5,[1,2,3,4,5]]"
   ]
  },
  {
   "cell_type": "code",
   "execution_count": 48,
   "id": "000301f6",
   "metadata": {},
   "outputs": [
    {
     "data": {
      "text/plain": [
       "[1, 2, 3, 4, 5, [1, 2, 3, 4, 5]]"
      ]
     },
     "execution_count": 48,
     "metadata": {},
     "output_type": "execute_result"
    }
   ],
   "source": [
    "isi"
   ]
  },
  {
   "cell_type": "code",
   "execution_count": 52,
   "id": "70575c57",
   "metadata": {},
   "outputs": [],
   "source": [
    "isi[:2] = [0,2]"
   ]
  },
  {
   "cell_type": "code",
   "execution_count": 53,
   "id": "f46bee5e",
   "metadata": {},
   "outputs": [
    {
     "data": {
      "text/plain": [
       "[0, 2, 3, 4, 5, [1, 2, 3, 4, 5]]"
      ]
     },
     "execution_count": 53,
     "metadata": {},
     "output_type": "execute_result"
    }
   ],
   "source": [
    "isi"
   ]
  },
  {
   "cell_type": "code",
   "execution_count": 54,
   "id": "8f11dbb6",
   "metadata": {},
   "outputs": [
    {
     "data": {
      "text/plain": [
       "3"
      ]
     },
     "execution_count": 54,
     "metadata": {},
     "output_type": "execute_result"
    }
   ],
   "source": [
    "isi[5][2]"
   ]
  },
  {
   "cell_type": "code",
   "execution_count": 55,
   "id": "aeb46f78",
   "metadata": {},
   "outputs": [],
   "source": [
    "isi2 = [1,2,3,4,5,[6,7,8,9,10,[11,12,13,14,15]]]"
   ]
  },
  {
   "cell_type": "code",
   "execution_count": 57,
   "id": "e5d97b4f",
   "metadata": {},
   "outputs": [
    {
     "data": {
      "text/plain": [
       "14"
      ]
     },
     "execution_count": 57,
     "metadata": {},
     "output_type": "execute_result"
    }
   ],
   "source": [
    "isi2[5][5][3]"
   ]
  },
  {
   "cell_type": "code",
   "execution_count": null,
   "id": "e51fc2ed",
   "metadata": {},
   "outputs": [],
   "source": []
  },
  {
   "cell_type": "code",
   "execution_count": null,
   "id": "14b94367",
   "metadata": {},
   "outputs": [],
   "source": []
  },
  {
   "cell_type": "markdown",
   "id": "ba217810",
   "metadata": {},
   "source": [
    "## Lebih dalam dengan List"
   ]
  },
  {
   "cell_type": "code",
   "execution_count": 58,
   "id": "f99ff592",
   "metadata": {},
   "outputs": [
    {
     "data": {
      "text/plain": [
       "['s',\n",
       " 'a',\n",
       " 'y',\n",
       " 'a',\n",
       " ' ',\n",
       " 'a',\n",
       " 'd',\n",
       " 'a',\n",
       " 'l',\n",
       " 'a',\n",
       " 'h',\n",
       " ' ',\n",
       " 'o',\n",
       " 'r',\n",
       " 'a',\n",
       " 'n',\n",
       " 'g',\n",
       " ' ',\n",
       " 'y',\n",
       " 'a',\n",
       " 'n',\n",
       " 'g',\n",
       " ' ',\n",
       " 'p',\n",
       " 'e',\n",
       " 'n',\n",
       " 'g',\n",
       " 'e',\n",
       " 'n',\n",
       " ' ',\n",
       " 's',\n",
       " 'u',\n",
       " 'k',\n",
       " 's',\n",
       " 'e',\n",
       " 's']"
      ]
     },
     "execution_count": 58,
     "metadata": {},
     "output_type": "execute_result"
    }
   ],
   "source": [
    "list('saya adalah orang yang pengen sukses')"
   ]
  },
  {
   "cell_type": "code",
   "execution_count": 59,
   "id": "ae4ac221",
   "metadata": {},
   "outputs": [],
   "source": [
    "ganjil = [2,4,6,8,9]"
   ]
  },
  {
   "cell_type": "code",
   "execution_count": 60,
   "id": "23c54f47",
   "metadata": {},
   "outputs": [],
   "source": [
    "genap = [2,4,6,8]"
   ]
  },
  {
   "cell_type": "code",
   "execution_count": 65,
   "id": "b0a1829c",
   "metadata": {},
   "outputs": [],
   "source": [
    "angka = ganjil + genap"
   ]
  },
  {
   "cell_type": "code",
   "execution_count": 66,
   "id": "d666d84b",
   "metadata": {},
   "outputs": [
    {
     "data": {
      "text/plain": [
       "[2, 4, 6, 8, 9, 2, 4, 6, 8]"
      ]
     },
     "execution_count": 66,
     "metadata": {},
     "output_type": "execute_result"
    }
   ],
   "source": [
    "angka"
   ]
  },
  {
   "cell_type": "code",
   "execution_count": 67,
   "id": "9c660610",
   "metadata": {},
   "outputs": [],
   "source": [
    "angka.sort()"
   ]
  },
  {
   "cell_type": "code",
   "execution_count": 68,
   "id": "f5e84da4",
   "metadata": {},
   "outputs": [
    {
     "data": {
      "text/plain": [
       "[2, 2, 4, 4, 6, 6, 8, 8, 9]"
      ]
     },
     "execution_count": 68,
     "metadata": {},
     "output_type": "execute_result"
    }
   ],
   "source": [
    "angka"
   ]
  },
  {
   "cell_type": "code",
   "execution_count": 70,
   "id": "c627f944",
   "metadata": {},
   "outputs": [],
   "source": [
    "angka_baru = [ganjil,genap]"
   ]
  },
  {
   "cell_type": "code",
   "execution_count": 71,
   "id": "607337c4",
   "metadata": {},
   "outputs": [
    {
     "data": {
      "text/plain": [
       "[[2, 4, 6, 8, 9], [2, 4, 6, 8]]"
      ]
     },
     "execution_count": 71,
     "metadata": {},
     "output_type": "execute_result"
    }
   ],
   "source": [
    "angka_baru"
   ]
  },
  {
   "cell_type": "code",
   "execution_count": 74,
   "id": "020a3476",
   "metadata": {},
   "outputs": [
    {
     "name": "stdout",
     "output_type": "stream",
     "text": [
      "[2, 4, 6, 8, 9]\n",
      "2\n",
      "4\n",
      "6\n",
      "8\n",
      "9\n",
      "[2, 4, 6, 8]\n",
      "2\n",
      "4\n",
      "6\n",
      "8\n"
     ]
    }
   ],
   "source": [
    "for x in angka_baru:\n",
    "    print(x)\n",
    "    \n",
    "    for y in x:\n",
    "        print(y)"
   ]
  },
  {
   "cell_type": "code",
   "execution_count": 79,
   "id": "ed537494",
   "metadata": {},
   "outputs": [],
   "source": [
    "hitung_angka = angka.count(2)"
   ]
  },
  {
   "cell_type": "code",
   "execution_count": 80,
   "id": "a1bf0696",
   "metadata": {},
   "outputs": [
    {
     "data": {
      "text/plain": [
       "2"
      ]
     },
     "execution_count": 80,
     "metadata": {},
     "output_type": "execute_result"
    }
   ],
   "source": [
    "hitung_angka"
   ]
  },
  {
   "cell_type": "markdown",
   "id": "03f5c328",
   "metadata": {},
   "source": [
    "## contoh method list"
   ]
  },
  {
   "cell_type": "code",
   "execution_count": 91,
   "id": "74b86e31",
   "metadata": {},
   "outputs": [],
   "source": [
    "kelas_sepuluh = ['kukuh','adi','setya','makda','aryan','andre','yoga','kukuh p']"
   ]
  },
  {
   "cell_type": "code",
   "execution_count": 92,
   "id": "a730630c",
   "metadata": {},
   "outputs": [],
   "source": [
    "kelas_sebelas = kelas_sepuluh.copy() # Method Copy"
   ]
  },
  {
   "cell_type": "code",
   "execution_count": 93,
   "id": "fd7ee6fe",
   "metadata": {},
   "outputs": [
    {
     "data": {
      "text/plain": [
       "['kukuh', 'adi', 'setya', 'makda', 'aryan', 'andre', 'yoga', 'kukuh p']"
      ]
     },
     "execution_count": 93,
     "metadata": {},
     "output_type": "execute_result"
    }
   ],
   "source": [
    "kelas_sebelas "
   ]
  },
  {
   "cell_type": "code",
   "execution_count": 96,
   "id": "4b5dad1c",
   "metadata": {},
   "outputs": [],
   "source": [
    "jumlah_siswa = kelas_sepuluh.count('kukuh') # method count menghitung dengan ketentuan"
   ]
  },
  {
   "cell_type": "code",
   "execution_count": 97,
   "id": "cd61ce6a",
   "metadata": {},
   "outputs": [
    {
     "data": {
      "text/plain": [
       "1"
      ]
     },
     "execution_count": 97,
     "metadata": {},
     "output_type": "execute_result"
    }
   ],
   "source": [
    "jumlah_siswa"
   ]
  },
  {
   "cell_type": "code",
   "execution_count": null,
   "id": "7ab0ec12",
   "metadata": {},
   "outputs": [],
   "source": []
  },
  {
   "cell_type": "code",
   "execution_count": 111,
   "id": "8ca448b8",
   "metadata": {},
   "outputs": [
    {
     "data": {
      "text/plain": [
       "['aldan',\n",
       " 'aldan',\n",
       " 'aldan',\n",
       " 'kukuh',\n",
       " 'adi',\n",
       " 'setya',\n",
       " 'makda',\n",
       " 'aryan',\n",
       " 'andre',\n",
       " 'yoga',\n",
       " 'kukuh p']"
      ]
     },
     "execution_count": 111,
     "metadata": {},
     "output_type": "execute_result"
    }
   ],
   "source": [
    "kelas_sepuluh"
   ]
  },
  {
   "cell_type": "code",
   "execution_count": 105,
   "id": "fcb400c6",
   "metadata": {},
   "outputs": [],
   "source": [
    "siswa_baru = ['maryan','dea']"
   ]
  },
  {
   "cell_type": "code",
   "execution_count": 106,
   "id": "cf01c8d1",
   "metadata": {},
   "outputs": [],
   "source": [
    "kelas_sepuluh.insert(0,siswa)"
   ]
  },
  {
   "cell_type": "code",
   "execution_count": 107,
   "id": "fe0bae8a",
   "metadata": {},
   "outputs": [
    {
     "data": {
      "text/plain": [
       "[['maryan', 'dea'],\n",
       " 'aldan',\n",
       " 'aldan',\n",
       " 'aldan',\n",
       " 'kukuh',\n",
       " 'adi',\n",
       " 'setya',\n",
       " 'makda',\n",
       " 'aryan',\n",
       " 'andre',\n",
       " 'yoga',\n",
       " 'kukuh p']"
      ]
     },
     "execution_count": 107,
     "metadata": {},
     "output_type": "execute_result"
    }
   ],
   "source": [
    "kelas_sepuluh"
   ]
  },
  {
   "cell_type": "code",
   "execution_count": 108,
   "id": "bacbe80e",
   "metadata": {},
   "outputs": [
    {
     "data": {
      "text/plain": [
       "['maryan', 'dea']"
      ]
     },
     "execution_count": 108,
     "metadata": {},
     "output_type": "execute_result"
    }
   ],
   "source": [
    "kelas_sepuluh.pop(0)"
   ]
  },
  {
   "cell_type": "code",
   "execution_count": 109,
   "id": "82bdf7c0",
   "metadata": {},
   "outputs": [
    {
     "data": {
      "text/plain": [
       "['aldan',\n",
       " 'aldan',\n",
       " 'aldan',\n",
       " 'kukuh',\n",
       " 'adi',\n",
       " 'setya',\n",
       " 'makda',\n",
       " 'aryan',\n",
       " 'andre',\n",
       " 'yoga',\n",
       " 'kukuh p']"
      ]
     },
     "execution_count": 109,
     "metadata": {},
     "output_type": "execute_result"
    }
   ],
   "source": []
  },
  {
   "cell_type": "code",
   "execution_count": 114,
   "id": "5ea28ce0",
   "metadata": {},
   "outputs": [],
   "source": [
    "kelas_sepuluh.insert(0,'maya')"
   ]
  },
  {
   "cell_type": "code",
   "execution_count": 115,
   "id": "cec055ff",
   "metadata": {},
   "outputs": [
    {
     "data": {
      "text/plain": [
       "['maya',\n",
       " 'maya',\n",
       " 'aldan',\n",
       " 'aldan',\n",
       " 'aldan',\n",
       " 'kukuh',\n",
       " 'adi',\n",
       " 'setya',\n",
       " 'makda',\n",
       " 'aryan',\n",
       " 'andre',\n",
       " 'yoga',\n",
       " 'kukuh p']"
      ]
     },
     "execution_count": 115,
     "metadata": {},
     "output_type": "execute_result"
    }
   ],
   "source": [
    "kelas_sepuluh"
   ]
  },
  {
   "cell_type": "code",
   "execution_count": 116,
   "id": "3206b670",
   "metadata": {},
   "outputs": [
    {
     "data": {
      "text/plain": [
       "'maya'"
      ]
     },
     "execution_count": 116,
     "metadata": {},
     "output_type": "execute_result"
    }
   ],
   "source": [
    "kelas_sepuluh.pop(0)"
   ]
  },
  {
   "cell_type": "code",
   "execution_count": 117,
   "id": "6c842e42",
   "metadata": {},
   "outputs": [
    {
     "data": {
      "text/plain": [
       "['maya',\n",
       " 'aldan',\n",
       " 'aldan',\n",
       " 'aldan',\n",
       " 'kukuh',\n",
       " 'adi',\n",
       " 'setya',\n",
       " 'makda',\n",
       " 'aryan',\n",
       " 'andre',\n",
       " 'yoga',\n",
       " 'kukuh p']"
      ]
     },
     "execution_count": 117,
     "metadata": {},
     "output_type": "execute_result"
    }
   ],
   "source": [
    "kelas_sepuluh"
   ]
  },
  {
   "cell_type": "code",
   "execution_count": 119,
   "id": "0ffa37c3",
   "metadata": {},
   "outputs": [
    {
     "data": {
      "text/plain": [
       "'aldan'"
      ]
     },
     "execution_count": 119,
     "metadata": {},
     "output_type": "execute_result"
    }
   ],
   "source": [
    "kelas_sepuluh.pop(1)"
   ]
  },
  {
   "cell_type": "code",
   "execution_count": 120,
   "id": "ab9e5ffb",
   "metadata": {},
   "outputs": [
    {
     "data": {
      "text/plain": [
       "'aldan'"
      ]
     },
     "execution_count": 120,
     "metadata": {},
     "output_type": "execute_result"
    }
   ],
   "source": [
    "kelas_sepuluh.pop(1)"
   ]
  },
  {
   "cell_type": "code",
   "execution_count": 121,
   "id": "389249c7",
   "metadata": {},
   "outputs": [
    {
     "data": {
      "text/plain": [
       "'aldan'"
      ]
     },
     "execution_count": 121,
     "metadata": {},
     "output_type": "execute_result"
    }
   ],
   "source": [
    "kelas_sepuluh.pop(1)"
   ]
  },
  {
   "cell_type": "code",
   "execution_count": 122,
   "id": "4cfb2221",
   "metadata": {},
   "outputs": [
    {
     "data": {
      "text/plain": [
       "<function list.pop(index=-1, /)>"
      ]
     },
     "execution_count": 122,
     "metadata": {},
     "output_type": "execute_result"
    }
   ],
   "source": [
    "kelas_sepuluh.pop"
   ]
  },
  {
   "cell_type": "code",
   "execution_count": 123,
   "id": "93301053",
   "metadata": {},
   "outputs": [
    {
     "data": {
      "text/plain": [
       "['maya', 'kukuh', 'adi', 'setya', 'makda', 'aryan', 'andre', 'yoga', 'kukuh p']"
      ]
     },
     "execution_count": 123,
     "metadata": {},
     "output_type": "execute_result"
    }
   ],
   "source": [
    "kelas_sepuluh"
   ]
  },
  {
   "cell_type": "code",
   "execution_count": 124,
   "id": "329f7d9e",
   "metadata": {},
   "outputs": [],
   "source": [
    "kelas_sepuluh.sort()"
   ]
  },
  {
   "cell_type": "code",
   "execution_count": 125,
   "id": "8e1a434c",
   "metadata": {},
   "outputs": [
    {
     "data": {
      "text/plain": [
       "['adi', 'andre', 'aryan', 'kukuh', 'kukuh p', 'makda', 'maya', 'setya', 'yoga']"
      ]
     },
     "execution_count": 125,
     "metadata": {},
     "output_type": "execute_result"
    }
   ],
   "source": [
    "kelas_sepuluh"
   ]
  },
  {
   "cell_type": "code",
   "execution_count": 126,
   "id": "dcb3197c",
   "metadata": {},
   "outputs": [],
   "source": [
    "kelas_sepuluh.remove('kukuh p')"
   ]
  },
  {
   "cell_type": "code",
   "execution_count": 127,
   "id": "1e5bd6f3",
   "metadata": {},
   "outputs": [
    {
     "data": {
      "text/plain": [
       "['adi', 'andre', 'aryan', 'kukuh', 'makda', 'maya', 'setya', 'yoga']"
      ]
     },
     "execution_count": 127,
     "metadata": {},
     "output_type": "execute_result"
    }
   ],
   "source": [
    "kelas_sepuluh"
   ]
  },
  {
   "cell_type": "code",
   "execution_count": 129,
   "id": "7eba96f4",
   "metadata": {},
   "outputs": [
    {
     "data": {
      "text/plain": [
       "3"
      ]
     },
     "execution_count": 129,
     "metadata": {},
     "output_type": "execute_result"
    }
   ],
   "source": [
    "kelas_sepuluh.index('kukuh') # mencari lokasi index nilai list"
   ]
  },
  {
   "cell_type": "code",
   "execution_count": 131,
   "id": "9e2b03e2",
   "metadata": {},
   "outputs": [],
   "source": [
    "siswa_baru = ['may','rey','roise','luk','aldan']"
   ]
  },
  {
   "cell_type": "code",
   "execution_count": 132,
   "id": "a96c3b3d",
   "metadata": {},
   "outputs": [],
   "source": [
    "kelas_sepuluh.extend(siswa_baru)"
   ]
  },
  {
   "cell_type": "code",
   "execution_count": 133,
   "id": "6eb7da9a",
   "metadata": {},
   "outputs": [
    {
     "data": {
      "text/plain": [
       "['adi',\n",
       " 'andre',\n",
       " 'aryan',\n",
       " 'kukuh',\n",
       " 'makda',\n",
       " 'maya',\n",
       " 'setya',\n",
       " 'yoga',\n",
       " 'may',\n",
       " 'rey',\n",
       " 'roise',\n",
       " 'luk',\n",
       " 'aldan']"
      ]
     },
     "execution_count": 133,
     "metadata": {},
     "output_type": "execute_result"
    }
   ],
   "source": [
    "kelas_sepuluh"
   ]
  },
  {
   "cell_type": "code",
   "execution_count": 134,
   "id": "3a923436",
   "metadata": {},
   "outputs": [],
   "source": [
    "kelas_sepuluh.sort()"
   ]
  },
  {
   "cell_type": "code",
   "execution_count": 135,
   "id": "fe7c4fac",
   "metadata": {},
   "outputs": [
    {
     "data": {
      "text/plain": [
       "['adi',\n",
       " 'aldan',\n",
       " 'andre',\n",
       " 'aryan',\n",
       " 'kukuh',\n",
       " 'luk',\n",
       " 'makda',\n",
       " 'may',\n",
       " 'maya',\n",
       " 'rey',\n",
       " 'roise',\n",
       " 'setya',\n",
       " 'yoga']"
      ]
     },
     "execution_count": 135,
     "metadata": {},
     "output_type": "execute_result"
    }
   ],
   "source": [
    "kelas_sepuluh"
   ]
  },
  {
   "cell_type": "code",
   "execution_count": null,
   "id": "2d97923e",
   "metadata": {},
   "outputs": [],
   "source": []
  }
 ],
 "metadata": {
  "kernelspec": {
   "display_name": "Python 3 (ipykernel)",
   "language": "python",
   "name": "python3"
  },
  "language_info": {
   "codemirror_mode": {
    "name": "ipython",
    "version": 3
   },
   "file_extension": ".py",
   "mimetype": "text/x-python",
   "name": "python",
   "nbconvert_exporter": "python",
   "pygments_lexer": "ipython3",
   "version": "3.9.12"
  }
 },
 "nbformat": 4,
 "nbformat_minor": 5
}
