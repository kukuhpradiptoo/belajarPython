{
 "cells": [
  {
   "cell_type": "markdown",
   "id": "65b6ee0f",
   "metadata": {},
   "source": [
    "## Range"
   ]
  },
  {
   "cell_type": "code",
   "execution_count": 8,
   "id": "7c9626c9",
   "metadata": {},
   "outputs": [
    {
     "name": "stdout",
     "output_type": "stream",
     "text": [
      "1\n",
      "2\n",
      "3\n",
      "4\n",
      "5\n",
      "6\n",
      "7\n",
      "8\n",
      "9\n",
      "10\n"
     ]
    }
   ],
   "source": [
    "for item in range(0,10):\n",
    "    item+=1\n",
    "    print(item)\n"
   ]
  },
  {
   "cell_type": "code",
   "execution_count": 9,
   "id": "1a125039",
   "metadata": {},
   "outputs": [],
   "source": [
    "angka = list(range(1,11))"
   ]
  },
  {
   "cell_type": "code",
   "execution_count": 10,
   "id": "ea76c3c1",
   "metadata": {},
   "outputs": [
    {
     "data": {
      "text/plain": [
       "[1, 2, 3, 4, 5, 6, 7, 8, 9, 10]"
      ]
     },
     "execution_count": 10,
     "metadata": {},
     "output_type": "execute_result"
    }
   ],
   "source": [
    "angka"
   ]
  },
  {
   "cell_type": "markdown",
   "id": "3078ad96",
   "metadata": {},
   "source": [
    "## Enumerate"
   ]
  },
  {
   "cell_type": "code",
   "execution_count": 11,
   "id": "4f25e2be",
   "metadata": {},
   "outputs": [
    {
     "name": "stdout",
     "output_type": "stream",
     "text": [
      "karakter a berada di index ke-0\n",
      "karakter b berada di index ke-1\n",
      "karakter c berada di index ke-2\n",
      "karakter d berada di index ke-3\n",
      "karakter e berada di index ke-4\n",
      "karakter f berada di index ke-5\n",
      "karakter g berada di index ke-6\n",
      "karakter h berada di index ke-7\n",
      "karakter i berada di index ke-8\n",
      "karakter j berada di index ke-9\n"
     ]
    }
   ],
   "source": [
    "index = 0\n",
    "for item in 'abcdefghij':\n",
    "    print('karakter {} berada di index ke-{}'.format(item,index))\n",
    "    index+=1"
   ]
  },
  {
   "cell_type": "code",
   "execution_count": 13,
   "id": "2c63829f",
   "metadata": {},
   "outputs": [
    {
     "name": "stdout",
     "output_type": "stream",
     "text": [
      "(0, 'a')\n",
      "(1, 'b')\n",
      "(2, 'c')\n",
      "(3, 'd')\n",
      "(4, 'e')\n",
      "(5, 'f')\n",
      "(6, 'g')\n",
      "(7, 'h')\n",
      "(8, 'i')\n",
      "(9, 'j')\n"
     ]
    }
   ],
   "source": [
    "kata = 'abcdefghij'\n",
    "for item in enumerate(kata):\n",
    "    print(item)"
   ]
  },
  {
   "cell_type": "code",
   "execution_count": 14,
   "id": "7bc55eeb",
   "metadata": {},
   "outputs": [
    {
     "name": "stdout",
     "output_type": "stream",
     "text": [
      "0\n",
      "a\n",
      "1\n",
      "b\n",
      "2\n",
      "c\n",
      "3\n",
      "d\n",
      "4\n",
      "e\n",
      "5\n",
      "f\n",
      "6\n",
      "g\n",
      "7\n",
      "h\n",
      "8\n",
      "i\n",
      "9\n",
      "j\n"
     ]
    }
   ],
   "source": [
    "for a,b in enumerate(kata):\n",
    "    print(a)\n",
    "    print(b)"
   ]
  },
  {
   "cell_type": "code",
   "execution_count": null,
   "id": "28b0ded9",
   "metadata": {},
   "outputs": [],
   "source": []
  },
  {
   "cell_type": "markdown",
   "id": "a55ab6cd",
   "metadata": {},
   "source": [
    "## Zip"
   ]
  },
  {
   "cell_type": "code",
   "execution_count": 16,
   "id": "9aaeb8e0",
   "metadata": {},
   "outputs": [],
   "source": [
    "list1 = [1,2,3,4,5]\n",
    "list2 = ['a','b','c','d','e']"
   ]
  },
  {
   "cell_type": "code",
   "execution_count": 17,
   "id": "8933e9ba",
   "metadata": {},
   "outputs": [
    {
     "name": "stdout",
     "output_type": "stream",
     "text": [
      "(1, 'a')\n",
      "(2, 'b')\n",
      "(3, 'c')\n",
      "(4, 'd')\n",
      "(5, 'e')\n"
     ]
    }
   ],
   "source": [
    "for item in zip(list1,list2):\n",
    "    print(item)"
   ]
  },
  {
   "cell_type": "code",
   "execution_count": 18,
   "id": "76233913",
   "metadata": {},
   "outputs": [
    {
     "data": {
      "text/plain": [
       "[(1, 'a'), (2, 'b'), (3, 'c'), (4, 'd'), (5, 'e')]"
      ]
     },
     "execution_count": 18,
     "metadata": {},
     "output_type": "execute_result"
    }
   ],
   "source": [
    "list(zip(list1,list2))"
   ]
  },
  {
   "cell_type": "code",
   "execution_count": null,
   "id": "e46c24ea",
   "metadata": {},
   "outputs": [],
   "source": []
  },
  {
   "cell_type": "markdown",
   "id": "0ed341a4",
   "metadata": {},
   "source": [
    "## Item checking"
   ]
  },
  {
   "cell_type": "code",
   "execution_count": 19,
   "id": "33686dc8",
   "metadata": {},
   "outputs": [
    {
     "data": {
      "text/plain": [
       "'aku belajar'"
      ]
     },
     "execution_count": 19,
     "metadata": {},
     "output_type": "execute_result"
    }
   ],
   "source": [
    "'aku belajar'"
   ]
  },
  {
   "cell_type": "code",
   "execution_count": 20,
   "id": "88e2940f",
   "metadata": {},
   "outputs": [
    {
     "data": {
      "text/plain": [
       "True"
      ]
     },
     "execution_count": 20,
     "metadata": {},
     "output_type": "execute_result"
    }
   ],
   "source": [
    "'k' in 'aku belajar'"
   ]
  },
  {
   "cell_type": "code",
   "execution_count": 21,
   "id": "cf5878b7",
   "metadata": {},
   "outputs": [
    {
     "data": {
      "text/plain": [
       "False"
      ]
     },
     "execution_count": 21,
     "metadata": {},
     "output_type": "execute_result"
    }
   ],
   "source": [
    "'v' in 'aku belajar'"
   ]
  },
  {
   "cell_type": "code",
   "execution_count": 22,
   "id": "68d9cd5f",
   "metadata": {},
   "outputs": [],
   "source": [
    "kotak1 = {'a':100,'b':200,'c':300}"
   ]
  },
  {
   "cell_type": "code",
   "execution_count": 23,
   "id": "91ac75dc",
   "metadata": {},
   "outputs": [
    {
     "data": {
      "text/plain": [
       "True"
      ]
     },
     "execution_count": 23,
     "metadata": {},
     "output_type": "execute_result"
    }
   ],
   "source": [
    "'a' in kotak1"
   ]
  },
  {
   "cell_type": "code",
   "execution_count": 24,
   "id": "25067691",
   "metadata": {},
   "outputs": [
    {
     "data": {
      "text/plain": [
       "True"
      ]
     },
     "execution_count": 24,
     "metadata": {},
     "output_type": "execute_result"
    }
   ],
   "source": [
    "'b' in kotak1"
   ]
  },
  {
   "cell_type": "code",
   "execution_count": 26,
   "id": "a50fc5a8",
   "metadata": {},
   "outputs": [
    {
     "data": {
      "text/plain": [
       "True"
      ]
     },
     "execution_count": 26,
     "metadata": {},
     "output_type": "execute_result"
    }
   ],
   "source": [
    "200 in kotak1.values()"
   ]
  },
  {
   "cell_type": "code",
   "execution_count": null,
   "id": "b8464f56",
   "metadata": {},
   "outputs": [],
   "source": []
  },
  {
   "cell_type": "markdown",
   "id": "cb8f219e",
   "metadata": {},
   "source": [
    "## Advance for Loops"
   ]
  },
  {
   "cell_type": "code",
   "execution_count": 29,
   "id": "d30ce3f5",
   "metadata": {},
   "outputs": [
    {
     "data": {
      "text/plain": [
       "[1, 2, 3, 4, 5, 6, 7, 8, 9, 10]"
      ]
     },
     "execution_count": 29,
     "metadata": {},
     "output_type": "execute_result"
    }
   ],
   "source": [
    "isi = list(range(1,11))\n",
    "isi "
   ]
  },
  {
   "cell_type": "code",
   "execution_count": 33,
   "id": "2b84f525",
   "metadata": {},
   "outputs": [
    {
     "data": {
      "text/plain": [
       "[1, 2, 3, 4, 5, 6, 7, 8, 9, 10]"
      ]
     },
     "execution_count": 33,
     "metadata": {},
     "output_type": "execute_result"
    }
   ],
   "source": [
    "isi2 = list()\n",
    "for item in range(1,11):\n",
    "    isi2.append(item)\n",
    "isi2"
   ]
  },
  {
   "cell_type": "code",
   "execution_count": 35,
   "id": "edd0efab",
   "metadata": {},
   "outputs": [
    {
     "data": {
      "text/plain": [
       "[1, 2, 3, 4, 5, 6, 7, 8, 9, 10]"
      ]
     },
     "execution_count": 35,
     "metadata": {},
     "output_type": "execute_result"
    }
   ],
   "source": [
    "isi3 = [item for item in range(1,11)]\n",
    "isi3"
   ]
  },
  {
   "cell_type": "code",
   "execution_count": 39,
   "id": "60f5c50c",
   "metadata": {},
   "outputs": [
    {
     "data": {
      "text/plain": [
       "[5, 6, 7, 8, 9, 10, 11, 12, 13, 14, 15]"
      ]
     },
     "execution_count": 39,
     "metadata": {},
     "output_type": "execute_result"
    }
   ],
   "source": [
    "isi4 = [item for item in range(5,16)]\n",
    "isi4"
   ]
  },
  {
   "cell_type": "code",
   "execution_count": 40,
   "id": "716f4a11",
   "metadata": {},
   "outputs": [
    {
     "data": {
      "text/plain": [
       "[25, 36, 49, 64, 81, 100, 121, 144, 169, 196, 225]"
      ]
     },
     "execution_count": 40,
     "metadata": {},
     "output_type": "execute_result"
    }
   ],
   "source": [
    "isi4 = [item**2 for item in range(5,16)]\n",
    "isi4"
   ]
  },
  {
   "cell_type": "code",
   "execution_count": 41,
   "id": "02e59319",
   "metadata": {},
   "outputs": [
    {
     "data": {
      "text/plain": [
       "[1, 0, 1, 4, 3, 4, 1, 0, 1, 4, 3]"
      ]
     },
     "execution_count": 41,
     "metadata": {},
     "output_type": "execute_result"
    }
   ],
   "source": [
    "isi4 = [item**2%6 for item in range(5,16)]\n",
    "isi4"
   ]
  },
  {
   "cell_type": "code",
   "execution_count": 43,
   "id": "8fa01a2b",
   "metadata": {},
   "outputs": [
    {
     "data": {
      "text/plain": [
       "[2, 4, 6, 8, 10, 12, 14, 16, 18]"
      ]
     },
     "execution_count": 43,
     "metadata": {},
     "output_type": "execute_result"
    }
   ],
   "source": [
    "isi5 = [item for item in range(1,20) if item%2==0]\n",
    "isi5"
   ]
  },
  {
   "cell_type": "code",
   "execution_count": 45,
   "id": "1793e840",
   "metadata": {},
   "outputs": [
    {
     "data": {
      "text/plain": [
       "[4, 16, 36, 64, 100, 144, 196, 256, 324, 400, 484, 576, 676, 784]"
      ]
     },
     "execution_count": 45,
     "metadata": {},
     "output_type": "execute_result"
    }
   ],
   "source": [
    "isi5 = [item**2 for item in range(1,30) if item%2==0]\n",
    "isi5"
   ]
  },
  {
   "cell_type": "code",
   "execution_count": 48,
   "id": "262b3e0c",
   "metadata": {},
   "outputs": [
    {
     "data": {
      "text/plain": [
       "['ganjil', 2, 'ganjil', 4, 'ganjil', 6, 'ganjil', 8, 'ganjil']"
      ]
     },
     "execution_count": 48,
     "metadata": {},
     "output_type": "execute_result"
    }
   ],
   "source": [
    "isi6 = [item if item%2 ==0 else 'ganjil' for item in range(1,10)]\n",
    "isi6"
   ]
  },
  {
   "cell_type": "code",
   "execution_count": 51,
   "id": "7cfb6ce4",
   "metadata": {},
   "outputs": [
    {
     "data": {
      "text/plain": [
       "['angka ini bilangan ganjil',\n",
       " 2,\n",
       " 'angka ini bilangan ganjil',\n",
       " 4,\n",
       " 'angka ini bilangan ganjil',\n",
       " 6,\n",
       " 'angka ini bilangan ganjil',\n",
       " 8,\n",
       " 'angka ini bilangan ganjil',\n",
       " 10]"
      ]
     },
     "execution_count": 51,
     "metadata": {},
     "output_type": "execute_result"
    }
   ],
   "source": [
    "isi7 = []\n",
    "for item in range(1,11):\n",
    "    if item%2 == 0:\n",
    "        isi7.append(item)\n",
    "    else:\n",
    "        isi7.append('angka ini bilangan ganjil')\n",
    "        \n",
    "isi7"
   ]
  },
  {
   "cell_type": "code",
   "execution_count": null,
   "id": "e8e02066",
   "metadata": {},
   "outputs": [],
   "source": []
  }
 ],
 "metadata": {
  "kernelspec": {
   "display_name": "Python 3 (ipykernel)",
   "language": "python",
   "name": "python3"
  },
  "language_info": {
   "codemirror_mode": {
    "name": "ipython",
    "version": 3
   },
   "file_extension": ".py",
   "mimetype": "text/x-python",
   "name": "python",
   "nbconvert_exporter": "python",
   "pygments_lexer": "ipython3",
   "version": "3.9.12"
  }
 },
 "nbformat": 4,
 "nbformat_minor": 5
}
