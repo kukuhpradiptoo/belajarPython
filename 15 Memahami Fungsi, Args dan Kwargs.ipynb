{
 "cells": [
  {
   "cell_type": "markdown",
   "id": "bcf8ab90",
   "metadata": {},
   "source": [
    "## Function\n",
    "Def nama_fungsinya(variabel):\n",
    "\n",
    "'''\n",
    "\n",
    "docstring = sebuah komentar untuk pembaca\n",
    "\n",
    "'''\n",
    "\n",
    "#### perintah yang diinginkan \n",
    "\n",
    "#### return/print\n",
    "\n",
    ">Retrun digunakan untuk mendefinisikan hasil fungsi ke variabel\n",
    ">print digunakan hanya ingin mencetak hasil dari fungsinya"
   ]
  },
  {
   "cell_type": "code",
   "execution_count": 1,
   "id": "54c87054",
   "metadata": {},
   "outputs": [],
   "source": [
    "def cetak_kalimat():\n",
    "    print('ternyata berkarir itu butuh proses')"
   ]
  },
  {
   "cell_type": "code",
   "execution_count": 20,
   "id": "19c524a8",
   "metadata": {},
   "outputs": [
    {
     "name": "stdout",
     "output_type": "stream",
     "text": [
      "ternyata berkarir itu butuh proses\n"
     ]
    }
   ],
   "source": [
    "cetak_kalimat()"
   ]
  },
  {
   "cell_type": "code",
   "execution_count": 19,
   "id": "d52dbf26",
   "metadata": {},
   "outputs": [
    {
     "ename": "TypeError",
     "evalue": "'list' object is not callable",
     "output_type": "error",
     "traceback": [
      "\u001b[1;31m---------------------------------------------------------------------------\u001b[0m",
      "\u001b[1;31mTypeError\u001b[0m                                 Traceback (most recent call last)",
      "Input \u001b[1;32mIn [19]\u001b[0m, in \u001b[0;36m<cell line: 1>\u001b[1;34m()\u001b[0m\n\u001b[1;32m----> 1\u001b[0m list1 \u001b[38;5;241m=\u001b[39m \u001b[38;5;28;43mlist\u001b[39;49m\u001b[43m(\u001b[49m\u001b[38;5;28;43mrange\u001b[39;49m\u001b[43m(\u001b[49m\u001b[38;5;241;43m1\u001b[39;49m\u001b[43m,\u001b[49m\u001b[38;5;241;43m10\u001b[39;49m\u001b[43m)\u001b[49m\u001b[43m)\u001b[49m\n\u001b[0;32m      2\u001b[0m list1\u001b[38;5;241m.\u001b[39mappend(\u001b[38;5;241m11\u001b[39m)\n\u001b[0;32m      3\u001b[0m list1\n",
      "\u001b[1;31mTypeError\u001b[0m: 'list' object is not callable"
     ]
    }
   ],
   "source": [
    "list1 = list(range(1,10))\n",
    "list1.append(11)\n",
    "list1"
   ]
  },
  {
   "cell_type": "code",
   "execution_count": 22,
   "id": "fc0b12d1",
   "metadata": {},
   "outputs": [],
   "source": [
    "del list"
   ]
  },
  {
   "cell_type": "code",
   "execution_count": 23,
   "id": "2687b0e8",
   "metadata": {},
   "outputs": [
    {
     "data": {
      "text/plain": [
       "list"
      ]
     },
     "execution_count": 23,
     "metadata": {},
     "output_type": "execute_result"
    }
   ],
   "source": []
  },
  {
   "cell_type": "code",
   "execution_count": 24,
   "id": "f62505bb",
   "metadata": {},
   "outputs": [
    {
     "data": {
      "text/plain": [
       "[1, 2, 3, 4, 5, 6, 7, 8, 9, 11]"
      ]
     },
     "execution_count": 24,
     "metadata": {},
     "output_type": "execute_result"
    }
   ],
   "source": [
    "list1 = list(range(1,10))\n",
    "list1.append(11)\n",
    "list1"
   ]
  },
  {
   "cell_type": "code",
   "execution_count": 25,
   "id": "a61daa50",
   "metadata": {},
   "outputs": [],
   "source": [
    "def perkalian(num1, num2):\n",
    "    return num1*num2"
   ]
  },
  {
   "cell_type": "code",
   "execution_count": 26,
   "id": "e2839df5",
   "metadata": {},
   "outputs": [],
   "source": [
    "kali = perkalian(2,10)"
   ]
  },
  {
   "cell_type": "code",
   "execution_count": 27,
   "id": "c6bb36ac",
   "metadata": {},
   "outputs": [
    {
     "data": {
      "text/plain": [
       "20"
      ]
     },
     "execution_count": 27,
     "metadata": {},
     "output_type": "execute_result"
    }
   ],
   "source": [
    "kali"
   ]
  },
  {
   "cell_type": "code",
   "execution_count": 33,
   "id": "5751782b",
   "metadata": {},
   "outputs": [],
   "source": [
    "def pernjumlahan(num1, num2):\n",
    "    print (num1+num2)\n",
    "    return(num1+num2)"
   ]
  },
  {
   "cell_type": "code",
   "execution_count": 34,
   "id": "d4fe543e",
   "metadata": {},
   "outputs": [
    {
     "name": "stdout",
     "output_type": "stream",
     "text": [
      "4\n"
     ]
    }
   ],
   "source": [
    "jumlah = pernjumlahan(1,3)"
   ]
  },
  {
   "cell_type": "code",
   "execution_count": 35,
   "id": "c667a5fb",
   "metadata": {},
   "outputs": [
    {
     "data": {
      "text/plain": [
       "4"
      ]
     },
     "execution_count": 35,
     "metadata": {},
     "output_type": "execute_result"
    }
   ],
   "source": [
    "jumlah"
   ]
  },
  {
   "cell_type": "code",
   "execution_count": 36,
   "id": "4a3f53fc",
   "metadata": {},
   "outputs": [
    {
     "data": {
      "text/plain": [
       "int"
      ]
     },
     "execution_count": 36,
     "metadata": {},
     "output_type": "execute_result"
    }
   ],
   "source": [
    "type(jumlah)"
   ]
  },
  {
   "cell_type": "code",
   "execution_count": 43,
   "id": "dcab3f5a",
   "metadata": {},
   "outputs": [],
   "source": [
    " def belajar(nama=''):\n",
    "        print('saya sedang belajar',nama)"
   ]
  },
  {
   "cell_type": "code",
   "execution_count": 46,
   "id": "9dfb18ef",
   "metadata": {},
   "outputs": [
    {
     "name": "stdout",
     "output_type": "stream",
     "text": [
      "saya sedang belajar makan\n"
     ]
    }
   ],
   "source": [
    "belajar('makan')"
   ]
  },
  {
   "cell_type": "code",
   "execution_count": null,
   "id": "2125e20d",
   "metadata": {},
   "outputs": [],
   "source": []
  },
  {
   "cell_type": "code",
   "execution_count": 47,
   "id": "a22e1df2",
   "metadata": {},
   "outputs": [],
   "source": [
    "def deteksi(var1):\n",
    "    '''\n",
    "    ini adalah fungsi untuk membedakan ganjil dan genap\n",
    "    '''\n",
    "    if (var1%2 == 0):\n",
    "        print('ini adalah angka genap')\n",
    "    else:\n",
    "        print('ini adalah angka ganjil')"
   ]
  },
  {
   "cell_type": "code",
   "execution_count": 48,
   "id": "e024730f",
   "metadata": {},
   "outputs": [
    {
     "name": "stdout",
     "output_type": "stream",
     "text": [
      "ini adalah angka genap\n"
     ]
    }
   ],
   "source": [
    "deteksi(10)"
   ]
  },
  {
   "cell_type": "code",
   "execution_count": 49,
   "id": "58644477",
   "metadata": {},
   "outputs": [
    {
     "name": "stdout",
     "output_type": "stream",
     "text": [
      "ini adalah angka ganjil\n"
     ]
    }
   ],
   "source": [
    "deteksi(9)"
   ]
  },
  {
   "cell_type": "code",
   "execution_count": null,
   "id": "f9ec72ce",
   "metadata": {},
   "outputs": [],
   "source": []
  },
  {
   "cell_type": "markdown",
   "id": "38b33ce7",
   "metadata": {},
   "source": [
    "## Tantangan\n",
    "\n",
    "buatlah fungsi yang bisa memberikan nilai True jika bisa menemukan kata 'Python'\n",
    "contoh kalimatnya:'ternyata belajar Python itu mudah'"
   ]
  },
  {
   "cell_type": "code",
   "execution_count": 69,
   "id": "d3787509",
   "metadata": {},
   "outputs": [
    {
     "name": "stdout",
     "output_type": "stream",
     "text": [
      "masukan kalimat yang diinginkan 'belajar python itu seru biuttttt'\n"
     ]
    }
   ],
   "source": [
    "kalimat = input('masukan kalimat yang diinginkan ')"
   ]
  },
  {
   "cell_type": "code",
   "execution_count": 70,
   "id": "88c6009c",
   "metadata": {},
   "outputs": [
    {
     "data": {
      "text/plain": [
       "\"'belajar python itu seru biuttttt'\""
      ]
     },
     "execution_count": 70,
     "metadata": {},
     "output_type": "execute_result"
    }
   ],
   "source": [
    "kalimat"
   ]
  },
  {
   "cell_type": "code",
   "execution_count": 77,
   "id": "3929e445",
   "metadata": {},
   "outputs": [],
   "source": [
    "def cek_kalimat(var):\n",
    "    if 'python'.lower() in var: #lower untuk bisa membawa P besar maupun kecil\n",
    "        return True\n",
    "    else:\n",
    "        return False"
   ]
  },
  {
   "cell_type": "code",
   "execution_count": 76,
   "id": "1c97aba8",
   "metadata": {},
   "outputs": [
    {
     "data": {
      "text/plain": [
       "True"
      ]
     },
     "execution_count": 76,
     "metadata": {},
     "output_type": "execute_result"
    }
   ],
   "source": [
    "cek_kalimat(kalimat)"
   ]
  },
  {
   "cell_type": "code",
   "execution_count": 78,
   "id": "436fd170",
   "metadata": {},
   "outputs": [
    {
     "data": {
      "text/plain": [
       "True"
      ]
     },
     "execution_count": 78,
     "metadata": {},
     "output_type": "execute_result"
    }
   ],
   "source": [
    "'Nama' in 'Nama saya adalah mega'"
   ]
  },
  {
   "cell_type": "code",
   "execution_count": 79,
   "id": "e5f55ba0",
   "metadata": {},
   "outputs": [],
   "source": [
    "def cek_kalimat(var):\n",
    "    return 'Python'.lower() in var"
   ]
  },
  {
   "cell_type": "code",
   "execution_count": 80,
   "id": "10b55659",
   "metadata": {},
   "outputs": [
    {
     "data": {
      "text/plain": [
       "True"
      ]
     },
     "execution_count": 80,
     "metadata": {},
     "output_type": "execute_result"
    }
   ],
   "source": [
    "cek_kalimat(kalimat)"
   ]
  },
  {
   "cell_type": "code",
   "execution_count": null,
   "id": "28931356",
   "metadata": {},
   "outputs": [],
   "source": []
  },
  {
   "cell_type": "markdown",
   "id": "ea1c7074",
   "metadata": {},
   "source": [
    "# **Args dan ***Kwargs"
   ]
  },
  {
   "cell_type": "code",
   "execution_count": 90,
   "id": "d8b2e3bf",
   "metadata": {},
   "outputs": [],
   "source": [
    "def jumlah(*args):\n",
    "    return sum((args))"
   ]
  },
  {
   "cell_type": "code",
   "execution_count": 91,
   "id": "80a315e0",
   "metadata": {},
   "outputs": [
    {
     "data": {
      "text/plain": [
       "36"
      ]
     },
     "execution_count": 91,
     "metadata": {},
     "output_type": "execute_result"
    }
   ],
   "source": [
    "jumlah(8,9,19)"
   ]
  },
  {
   "cell_type": "code",
   "execution_count": 92,
   "id": "77315a0d",
   "metadata": {},
   "outputs": [],
   "source": [
    "def cek_args(*args):\n",
    "    print(args)"
   ]
  },
  {
   "cell_type": "code",
   "execution_count": 93,
   "id": "3bdcfccf",
   "metadata": {},
   "outputs": [
    {
     "name": "stdout",
     "output_type": "stream",
     "text": [
      "(1, 2, 3, 4, 5)\n"
     ]
    }
   ],
   "source": [
    "cek_args(1,2,3,4,5)"
   ]
  },
  {
   "cell_type": "code",
   "execution_count": null,
   "id": "7126372b",
   "metadata": {},
   "outputs": [],
   "source": []
  },
  {
   "cell_type": "code",
   "execution_count": 94,
   "id": "d9055413",
   "metadata": {},
   "outputs": [],
   "source": [
    "def cek_kwargs(**kwargs):\n",
    "    print(kwargs)"
   ]
  },
  {
   "cell_type": "code",
   "execution_count": 95,
   "id": "1772e9b5",
   "metadata": {},
   "outputs": [
    {
     "name": "stdout",
     "output_type": "stream",
     "text": [
      "{'anak': 'gemuk'}\n"
     ]
    }
   ],
   "source": [
    "cek_kwargs(anak='gemuk')"
   ]
  },
  {
   "cell_type": "code",
   "execution_count": 96,
   "id": "6551d608",
   "metadata": {},
   "outputs": [],
   "source": [
    "def cek_berat(**kwargs):\n",
    "    if 'Budi' in kwargs:\n",
    "        print('berat budi tergolong {}'.format(kwargs['Budi']))\n",
    "    else:\n",
    "        print('tidak masuk data base')"
   ]
  },
  {
   "cell_type": "code",
   "execution_count": 99,
   "id": "1dfa149d",
   "metadata": {},
   "outputs": [
    {
     "name": "stdout",
     "output_type": "stream",
     "text": [
      "berat budi tergolong gemuk\n"
     ]
    }
   ],
   "source": [
    "cek_berat(Budi='gemuk',Joko='kurus')"
   ]
  },
  {
   "cell_type": "code",
   "execution_count": 101,
   "id": "cbd2661b",
   "metadata": {},
   "outputs": [],
   "source": [
    "def fungsiku(*args,**kwargs):\n",
    "    print('saya ingin membeli {} {} secara tunai'.format(args[0], kwargs['makanan']))"
   ]
  },
  {
   "cell_type": "code",
   "execution_count": 102,
   "id": "04b61c10",
   "metadata": {},
   "outputs": [
    {
     "name": "stdout",
     "output_type": "stream",
     "text": [
      "saya ingin membeli 23 soto ayam secara tunai\n"
     ]
    }
   ],
   "source": [
    "fungsiku(23,56,10, buah='apel',makanan='soto ayam')"
   ]
  },
  {
   "cell_type": "code",
   "execution_count": null,
   "id": "f70d5948",
   "metadata": {},
   "outputs": [],
   "source": []
  }
 ],
 "metadata": {
  "kernelspec": {
   "display_name": "Python 3 (ipykernel)",
   "language": "python",
   "name": "python3"
  },
  "language_info": {
   "codemirror_mode": {
    "name": "ipython",
    "version": 3
   },
   "file_extension": ".py",
   "mimetype": "text/x-python",
   "name": "python",
   "nbconvert_exporter": "python",
   "pygments_lexer": "ipython3",
   "version": "3.9.12"
  }
 },
 "nbformat": 4,
 "nbformat_minor": 5
}
