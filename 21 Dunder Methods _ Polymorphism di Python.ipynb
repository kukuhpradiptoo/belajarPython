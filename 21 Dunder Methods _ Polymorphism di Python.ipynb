{
 "cells": [
  {
   "cell_type": "markdown",
   "id": "d70d7494",
   "metadata": {},
   "source": [
    "## Polymorphism\n",
    "\n",
    "sebuah teknik di OPP untuk yang dapat menggunakan beberapa fitur di class pada class lain"
   ]
  },
  {
   "cell_type": "code",
   "execution_count": 1,
   "id": "165edaa0",
   "metadata": {},
   "outputs": [],
   "source": [
    "class Kucing:\n",
    "    \n",
    "    def __init__(self, nama):\n",
    "        self.nama = nama\n",
    "        \n",
    "    def respon(self):\n",
    "        return self.nama + ' meong meong'"
   ]
  },
  {
   "cell_type": "code",
   "execution_count": 3,
   "id": "4e8b8d6e",
   "metadata": {},
   "outputs": [],
   "source": [
    "class Anjing:\n",
    "    \n",
    "    def __init__(self, nama):\n",
    "        self.nama = nama\n",
    "        \n",
    "    def respon(self):\n",
    "        return self.nama + ' gug gug'"
   ]
  },
  {
   "cell_type": "code",
   "execution_count": 4,
   "id": "689e5352",
   "metadata": {},
   "outputs": [],
   "source": [
    "riri = Kucing('Riri')"
   ]
  },
  {
   "cell_type": "code",
   "execution_count": 6,
   "id": "d8b327ad",
   "metadata": {},
   "outputs": [],
   "source": [
    "bono = Anjing('Bono')"
   ]
  },
  {
   "cell_type": "code",
   "execution_count": 8,
   "id": "5730be46",
   "metadata": {},
   "outputs": [
    {
     "data": {
      "text/plain": [
       "'Riri meong meong'"
      ]
     },
     "execution_count": 8,
     "metadata": {},
     "output_type": "execute_result"
    }
   ],
   "source": [
    "riri.respon()"
   ]
  },
  {
   "cell_type": "code",
   "execution_count": 9,
   "id": "04288d46",
   "metadata": {},
   "outputs": [
    {
     "data": {
      "text/plain": [
       "'Bono gug gug'"
      ]
     },
     "execution_count": 9,
     "metadata": {},
     "output_type": "execute_result"
    }
   ],
   "source": [
    "bono.respon()"
   ]
  },
  {
   "cell_type": "code",
   "execution_count": 10,
   "id": "9c63b3f4",
   "metadata": {},
   "outputs": [
    {
     "name": "stdout",
     "output_type": "stream",
     "text": [
      "<class '__main__.Kucing'>\n",
      "Riri meong meong\n",
      "<class '__main__.Anjing'>\n",
      "Bono gug gug\n"
     ]
    }
   ],
   "source": [
    "for binatang in [riri, bono]:\n",
    "    print(type(binatang))\n",
    "    print(binatang.respon())"
   ]
  },
  {
   "cell_type": "code",
   "execution_count": 14,
   "id": "61caad8f",
   "metadata": {},
   "outputs": [],
   "source": [
    "def hewan_ngomong(binatang):\n",
    "    print(binatang.respon())"
   ]
  },
  {
   "cell_type": "code",
   "execution_count": 15,
   "id": "4be05a3e",
   "metadata": {},
   "outputs": [
    {
     "name": "stdout",
     "output_type": "stream",
     "text": [
      "Riri meong meong\n"
     ]
    }
   ],
   "source": [
    "hewan_ngomong(riri)"
   ]
  },
  {
   "cell_type": "code",
   "execution_count": null,
   "id": "86ce7918",
   "metadata": {},
   "outputs": [],
   "source": []
  },
  {
   "cell_type": "code",
   "execution_count": null,
   "id": "db7b2d07",
   "metadata": {},
   "outputs": [],
   "source": []
  },
  {
   "cell_type": "markdown",
   "id": "a69db8fd",
   "metadata": {},
   "source": [
    "## Dunder/Magic methods"
   ]
  },
  {
   "cell_type": "code",
   "execution_count": 41,
   "id": "64dfbbc6",
   "metadata": {},
   "outputs": [],
   "source": [
    "class Coba:\n",
    "    \n",
    "    def __init__(self, nama,angka, kata):\n",
    "        self.nama = nama\n",
    "        self.angka = angka\n",
    "        self.kata = kata\n",
    "        \n",
    "    def cetak(self):\n",
    "        return self.nama\n",
    "\n",
    "    def __str__(self):\n",
    "        return self.nama\n",
    "    \n",
    "    def __len__(self):\n",
    "        return 100"
   ]
  },
  {
   "cell_type": "code",
   "execution_count": 42,
   "id": "5775764e",
   "metadata": {},
   "outputs": [],
   "source": [
    "coba = Coba('joko', 20,'sehat')"
   ]
  },
  {
   "cell_type": "code",
   "execution_count": 43,
   "id": "4af4d4e4",
   "metadata": {},
   "outputs": [
    {
     "data": {
      "text/plain": [
       "'joko'"
      ]
     },
     "execution_count": 43,
     "metadata": {},
     "output_type": "execute_result"
    }
   ],
   "source": [
    "coba.cetak()"
   ]
  },
  {
   "cell_type": "code",
   "execution_count": 44,
   "id": "d9e6f3c6",
   "metadata": {},
   "outputs": [
    {
     "name": "stdout",
     "output_type": "stream",
     "text": [
      "['__class__', '__delattr__', '__dict__', '__dir__', '__doc__', '__eq__', '__format__', '__ge__', '__getattribute__', '__gt__', '__hash__', '__init__', '__init_subclass__', '__le__', '__len__', '__lt__', '__module__', '__ne__', '__new__', '__reduce__', '__reduce_ex__', '__repr__', '__setattr__', '__sizeof__', '__str__', '__subclasshook__', '__weakref__', 'angka', 'cetak', 'kata', 'nama']\n"
     ]
    }
   ],
   "source": [
    "print(dir(coba))"
   ]
  },
  {
   "cell_type": "code",
   "execution_count": 45,
   "id": "fd8859c9",
   "metadata": {},
   "outputs": [
    {
     "data": {
      "text/plain": [
       "'joko'"
      ]
     },
     "execution_count": 45,
     "metadata": {},
     "output_type": "execute_result"
    }
   ],
   "source": [
    "coba.__str__()"
   ]
  },
  {
   "cell_type": "code",
   "execution_count": 46,
   "id": "a6852ebc",
   "metadata": {},
   "outputs": [
    {
     "data": {
      "text/plain": [
       "'joko'"
      ]
     },
     "execution_count": 46,
     "metadata": {},
     "output_type": "execute_result"
    }
   ],
   "source": [
    "str(coba)"
   ]
  },
  {
   "cell_type": "code",
   "execution_count": 51,
   "id": "162530b9",
   "metadata": {},
   "outputs": [
    {
     "data": {
      "text/plain": [
       "100"
      ]
     },
     "execution_count": 51,
     "metadata": {},
     "output_type": "execute_result"
    }
   ],
   "source": [
    "coba.__len__()"
   ]
  },
  {
   "cell_type": "code",
   "execution_count": 48,
   "id": "69a2b004",
   "metadata": {},
   "outputs": [
    {
     "data": {
      "text/plain": [
       "100"
      ]
     },
     "execution_count": 48,
     "metadata": {},
     "output_type": "execute_result"
    }
   ],
   "source": [
    "len(coba)"
   ]
  },
  {
   "cell_type": "code",
   "execution_count": null,
   "id": "951552e8",
   "metadata": {},
   "outputs": [],
   "source": []
  },
  {
   "cell_type": "markdown",
   "id": "afba1971",
   "metadata": {},
   "source": [
    "## Tantangan OOP\n",
    "\n",
    "\n",
    "Buatlah sebuah class dengan nama RekeningBank.\n",
    "kemudian class ini memiliki beberapa method seperti mencetak saldo, menabung dan menarik uang.\n",
    "jika rekening kurang, maka akan menunjukan keterangan bahwa saldo tidak bisa ditarik karena tidak mencukupi."
   ]
  },
  {
   "cell_type": "code",
   "execution_count": 55,
   "id": "9553ff9f",
   "metadata": {},
   "outputs": [
    {
     "name": "stdout",
     "output_type": "stream",
     "text": [
      "Nama: Didi, ID: A001, Saldo: 5000000\n",
      "Jumlah deposit:  100000 Saldo sekarang:  5100000\n",
      "Maaf saldo tidak mencukupi, sekarang hanya tersisa:  5100000\n"
     ]
    }
   ],
   "source": [
    "class RekeningBank:\n",
    "    def __init__(self, nama, id, saldo):\n",
    "        self.nama = nama\n",
    "        self.id = id\n",
    "        self.saldo = saldo\n",
    "    \n",
    "    def cetak(self):\n",
    "        print('Nama: {}, ID: {}, Saldo: {}'.format(self.nama,self.id,self.saldo))\n",
    "        \n",
    "    def tabung(self, deposit):\n",
    "        self.saldo += deposit\n",
    "        print('Jumlah deposit: ', deposit, 'Saldo sekarang: ', self.saldo)\n",
    "        \n",
    "    def tarik(self, withdraw):\n",
    "        if self.saldo - withdraw < 0:\n",
    "            print('Maaf saldo tidak mencukupi, sekarang hanya tersisa: ', self.saldo)\n",
    "        else:\n",
    "            self.saldo -= withdraw\n",
    "            print('Anda telah menarik sebesar: {}, sisa saldo sekarang: {}'.format(withdraw,self.saldo))\n",
    "            \n",
    "user1 = RekeningBank('Didi', 'A001', 5000000)\n",
    "\n",
    "user1.cetak()\n",
    "user1.tabung(100000)\n",
    "user1.tarik(10000000)"
   ]
  },
  {
   "cell_type": "code",
   "execution_count": null,
   "id": "bd3c461a",
   "metadata": {},
   "outputs": [],
   "source": []
  },
  {
   "cell_type": "code",
   "execution_count": 67,
   "id": "056b9a85",
   "metadata": {},
   "outputs": [],
   "source": [
    "class RekeningBank:\n",
    "    \n",
    "    def __init__(self, tabungan):\n",
    "        self.tabungan = tabungan\n",
    "        \n",
    "    def cek_saldo(self):\n",
    "        print('Jumlah saldo Anda adalah = Rp {}'.format(self.tabungan))\n",
    "        \n",
    "    def menabung(self):\n",
    "        tambah = int(input('Masukan jumlah yang ingin ditabung = '))\n",
    "        self.tabungan += tambah # self.tabbungan = self.tabungan + tambah\n",
    "    \n",
    "    def menarik(self):\n",
    "        kurang = int(input('Masukan nilai yang akan Anda ambil '))\n",
    "        if self.tabungan < kurang:\n",
    "            print('Maaf saldo anda tidak mencukupi \\nSaldo anda saat ini adalah {}'.format(self.tabungan))\n",
    "        else:\n",
    "            self.tabungan -= kurang    "
   ]
  },
  {
   "cell_type": "code",
   "execution_count": 68,
   "id": "219e1f21",
   "metadata": {},
   "outputs": [],
   "source": [
    "tabunganku = RekeningBank(100000)"
   ]
  },
  {
   "cell_type": "code",
   "execution_count": 69,
   "id": "a0865aaa",
   "metadata": {},
   "outputs": [
    {
     "name": "stdout",
     "output_type": "stream",
     "text": [
      "Jumlah saldo Anda adalah = Rp 100000\n"
     ]
    }
   ],
   "source": [
    "tabunganku.cek_saldo()"
   ]
  },
  {
   "cell_type": "code",
   "execution_count": 66,
   "id": "a74aed92",
   "metadata": {},
   "outputs": [
    {
     "name": "stdout",
     "output_type": "stream",
     "text": [
      "masukan jumlah yang ingin ditabung = 200\n"
     ]
    }
   ],
   "source": [
    "tabunganku.menabung()"
   ]
  },
  {
   "cell_type": "code",
   "execution_count": 70,
   "id": "fb7801fe",
   "metadata": {},
   "outputs": [
    {
     "name": "stdout",
     "output_type": "stream",
     "text": [
      "Masukan nilai yang akan Anda ambil 1000000\n",
      "Maaf saldo anda tidak mencukupi \n",
      "Saldo anda saat ini adalah 100000\n"
     ]
    }
   ],
   "source": [
    "tabunganku.menarik()"
   ]
  },
  {
   "cell_type": "code",
   "execution_count": null,
   "id": "8fbbd22f",
   "metadata": {},
   "outputs": [],
   "source": []
  }
 ],
 "metadata": {
  "kernelspec": {
   "display_name": "Python 3 (ipykernel)",
   "language": "python",
   "name": "python3"
  },
  "language_info": {
   "codemirror_mode": {
    "name": "ipython",
    "version": 3
   },
   "file_extension": ".py",
   "mimetype": "text/x-python",
   "name": "python",
   "nbconvert_exporter": "python",
   "pygments_lexer": "ipython3",
   "version": "3.9.12"
  }
 },
 "nbformat": 4,
 "nbformat_minor": 5
}
