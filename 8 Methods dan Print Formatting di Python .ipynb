{
 "cells": [
  {
   "cell_type": "markdown",
   "id": "f6b0213b",
   "metadata": {},
   "source": [
    "String tidak bisa diganti isi datanya (immutable)"
   ]
  },
  {
   "cell_type": "code",
   "execution_count": 3,
   "id": "bf595ae9",
   "metadata": {},
   "outputs": [
    {
     "name": "stdout",
     "output_type": "stream",
     "text": [
      "[10, 2, 3, 4, 5]\n"
     ]
    }
   ],
   "source": [
    "var1 = [1,2,3,4,5]\n",
    "var1[0] = 10\n",
    "print(var1)\n"
   ]
  },
  {
   "cell_type": "code",
   "execution_count": 5,
   "id": "01dd253c",
   "metadata": {},
   "outputs": [],
   "source": [
    "nama1= 'bambang'"
   ]
  },
  {
   "cell_type": "code",
   "execution_count": 7,
   "id": "bb104b96",
   "metadata": {},
   "outputs": [
    {
     "data": {
      "text/plain": [
       "'bamba'"
      ]
     },
     "execution_count": 7,
     "metadata": {},
     "output_type": "execute_result"
    }
   ],
   "source": [
    "nama1[:5]"
   ]
  },
  {
   "cell_type": "code",
   "execution_count": 8,
   "id": "9803b8ed",
   "metadata": {},
   "outputs": [
    {
     "ename": "TypeError",
     "evalue": "'str' object does not support item assignment",
     "output_type": "error",
     "traceback": [
      "\u001b[1;31m---------------------------------------------------------------------------\u001b[0m",
      "\u001b[1;31mTypeError\u001b[0m                                 Traceback (most recent call last)",
      "Input \u001b[1;32mIn [8]\u001b[0m, in \u001b[0;36m<cell line: 1>\u001b[1;34m()\u001b[0m\n\u001b[1;32m----> 1\u001b[0m nama1[\u001b[38;5;241m2\u001b[39m] \u001b[38;5;241m=\u001b[39m \u001b[38;5;124m\"\u001b[39m\u001b[38;5;124mc\u001b[39m\u001b[38;5;124m\"\u001b[39m\n",
      "\u001b[1;31mTypeError\u001b[0m: 'str' object does not support item assignment"
     ]
    }
   ],
   "source": [
    "nama1[2] = \"c\""
   ]
  },
  {
   "cell_type": "code",
   "execution_count": 10,
   "id": "e572bbbb",
   "metadata": {},
   "outputs": [
    {
     "data": {
      "text/plain": [
       "'bambang lukito'"
      ]
     },
     "execution_count": 10,
     "metadata": {},
     "output_type": "execute_result"
    }
   ],
   "source": [
    "nama1 + \" lukito\""
   ]
  },
  {
   "cell_type": "code",
   "execution_count": 25,
   "id": "f3d26f95",
   "metadata": {},
   "outputs": [
    {
     "data": {
      "text/plain": [
       "'bambangsedang mencari uang di goasedang mencari uang di goasedang mencari uang di goa sedang mencari uang di goa sedang mencari uang di goa'"
      ]
     },
     "execution_count": 25,
     "metadata": {},
     "output_type": "execute_result"
    }
   ],
   "source": [
    "nama1"
   ]
  },
  {
   "cell_type": "code",
   "execution_count": 26,
   "id": "10dbe9d6",
   "metadata": {},
   "outputs": [
    {
     "data": {
      "text/plain": [
       "'bambangsedang mencari uang di goasedang mencari uang di goasedang mencari uang di goa sedang mencari uang di goa sedang mencari uang di goa sedang makan sayur'"
      ]
     },
     "execution_count": 26,
     "metadata": {},
     "output_type": "execute_result"
    }
   ],
   "source": [
    "nama1 + \" sedang makan sayur\" "
   ]
  },
  {
   "cell_type": "code",
   "execution_count": 27,
   "id": "0ca38bdd",
   "metadata": {},
   "outputs": [],
   "source": [
    "nama1 = nama1 + \" sedang mencari uang di goa\""
   ]
  },
  {
   "cell_type": "code",
   "execution_count": 28,
   "id": "bebab668",
   "metadata": {},
   "outputs": [
    {
     "data": {
      "text/plain": [
       "'bambangsedang mencari uang di goasedang mencari uang di goasedang mencari uang di goa sedang mencari uang di goa sedang mencari uang di goa sedang mencari uang di goa'"
      ]
     },
     "execution_count": 28,
     "metadata": {},
     "output_type": "execute_result"
    }
   ],
   "source": [
    "nama1"
   ]
  },
  {
   "cell_type": "code",
   "execution_count": 29,
   "id": "630161db",
   "metadata": {},
   "outputs": [
    {
     "data": {
      "text/plain": [
       "'bambangsedang mencari uang di goasedang mencari uang di goasedang mencari uang di goa sedang mencari uang di goa sedang mencari uang di goa sedang mencari uang di goa'"
      ]
     },
     "execution_count": 29,
     "metadata": {},
     "output_type": "execute_result"
    }
   ],
   "source": [
    "nama1"
   ]
  },
  {
   "cell_type": "markdown",
   "id": "74f0f7bf",
   "metadata": {},
   "source": [
    "## Method di Python"
   ]
  },
  {
   "cell_type": "code",
   "execution_count": 30,
   "id": "0fdfc63d",
   "metadata": {},
   "outputs": [],
   "source": [
    "var1 = \"makanan sehat itu adalah 4 sehat 5 sempurna\""
   ]
  },
  {
   "cell_type": "code",
   "execution_count": 31,
   "id": "53dcbea0",
   "metadata": {},
   "outputs": [
    {
     "data": {
      "text/plain": [
       "'makanan sehat itu adalah 4 sehat 5 sempurna'"
      ]
     },
     "execution_count": 31,
     "metadata": {},
     "output_type": "execute_result"
    }
   ],
   "source": [
    "var1"
   ]
  },
  {
   "cell_type": "code",
   "execution_count": 32,
   "id": "18fed1bc",
   "metadata": {},
   "outputs": [
    {
     "data": {
      "text/plain": [
       "'MAKANAN SEHAT ITU ADALAH 4 SEHAT 5 SEMPURNA'"
      ]
     },
     "execution_count": 32,
     "metadata": {},
     "output_type": "execute_result"
    }
   ],
   "source": [
    "var1.upper()"
   ]
  },
  {
   "cell_type": "code",
   "execution_count": 33,
   "id": "a1f82010",
   "metadata": {},
   "outputs": [
    {
     "data": {
      "text/plain": [
       "'makanan sehat itu adalah 4 sehat 5 sempurna'"
      ]
     },
     "execution_count": 33,
     "metadata": {},
     "output_type": "execute_result"
    }
   ],
   "source": [
    "var1"
   ]
  },
  {
   "cell_type": "code",
   "execution_count": 34,
   "id": "417a62f4",
   "metadata": {},
   "outputs": [],
   "source": [
    "var1 = var1.upper()"
   ]
  },
  {
   "cell_type": "code",
   "execution_count": 35,
   "id": "3c5587e0",
   "metadata": {},
   "outputs": [
    {
     "data": {
      "text/plain": [
       "'MAKANAN SEHAT ITU ADALAH 4 SEHAT 5 SEMPURNA'"
      ]
     },
     "execution_count": 35,
     "metadata": {},
     "output_type": "execute_result"
    }
   ],
   "source": [
    "var1"
   ]
  },
  {
   "cell_type": "code",
   "execution_count": 36,
   "id": "22a2b710",
   "metadata": {},
   "outputs": [
    {
     "data": {
      "text/plain": [
       "['MAKANAN', 'SEHAT', 'ITU', 'ADALAH', '4', 'SEHAT', '5', 'SEMPURNA']"
      ]
     },
     "execution_count": 36,
     "metadata": {},
     "output_type": "execute_result"
    }
   ],
   "source": [
    "var1.split()"
   ]
  },
  {
   "cell_type": "markdown",
   "id": "e6afdc47",
   "metadata": {},
   "source": [
    "NPL = Natural language Pocessing"
   ]
  },
  {
   "cell_type": "code",
   "execution_count": 37,
   "id": "2f587b20",
   "metadata": {},
   "outputs": [
    {
     "data": {
      "text/plain": [
       "['M', 'K', 'N', 'N SEH', 'T ITU ', 'D', 'L', 'H 4 SEH', 'T 5 SEMPURN', '']"
      ]
     },
     "execution_count": 37,
     "metadata": {},
     "output_type": "execute_result"
    }
   ],
   "source": [
    "var1.split(\"A\")"
   ]
  },
  {
   "cell_type": "code",
   "execution_count": 40,
   "id": "c97dbb75",
   "metadata": {},
   "outputs": [
    {
     "data": {
      "text/plain": [
       "['MAKANAN SEHAT ITU ADALAH 4 SEHAT 5 SEMPURNA']"
      ]
     },
     "execution_count": 40,
     "metadata": {},
     "output_type": "execute_result"
    }
   ],
   "source": [
    "var1.split(\"B\")"
   ]
  },
  {
   "cell_type": "code",
   "execution_count": 41,
   "id": "20756508",
   "metadata": {},
   "outputs": [],
   "source": [
    "var2 = [1,2,3,4,5]"
   ]
  },
  {
   "cell_type": "code",
   "execution_count": 42,
   "id": "817c4aff",
   "metadata": {},
   "outputs": [],
   "source": [
    "var2.remove(2)"
   ]
  },
  {
   "cell_type": "code",
   "execution_count": 43,
   "id": "bcdcdb24",
   "metadata": {},
   "outputs": [
    {
     "data": {
      "text/plain": [
       "[1, 3, 4, 5]"
      ]
     },
     "execution_count": 43,
     "metadata": {},
     "output_type": "execute_result"
    }
   ],
   "source": [
    "var2"
   ]
  },
  {
   "cell_type": "code",
   "execution_count": 1,
   "id": "a4d9c308",
   "metadata": {},
   "outputs": [
    {
     "data": {
      "text/plain": [
       "['kukuh', 'pradipto', 'makan', 'nasi', 'padang']"
      ]
     },
     "execution_count": 1,
     "metadata": {},
     "output_type": "execute_result"
    }
   ],
   "source": [
    "var1 = 'kukuh-pradipto-makan-nasi-padang'\n",
    "var1.split('-')"
   ]
  },
  {
   "cell_type": "markdown",
   "id": "4a44a995",
   "metadata": {},
   "source": [
    "### Print Formatting di Python"
   ]
  },
  {
   "cell_type": "code",
   "execution_count": 44,
   "id": "6aad953e",
   "metadata": {},
   "outputs": [],
   "source": [
    "var1 = \"ayam goreng KFC dan MCD mana yang lebih enak ?\""
   ]
  },
  {
   "cell_type": "code",
   "execution_count": 45,
   "id": "25b394be",
   "metadata": {},
   "outputs": [
    {
     "name": "stdout",
     "output_type": "stream",
     "text": [
      "ayam goreng KFC dan MCD mana yang lebih enak ?\n"
     ]
    }
   ],
   "source": [
    "print(var1)"
   ]
  },
  {
   "cell_type": "code",
   "execution_count": 47,
   "id": "2881ad04",
   "metadata": {},
   "outputs": [
    {
     "name": "stdout",
     "output_type": "stream",
     "text": [
      "ini ada 10 buah mangga\n"
     ]
    }
   ],
   "source": [
    "print('ini ada {} buah mangga'.format(10))"
   ]
  },
  {
   "cell_type": "code",
   "execution_count": 50,
   "id": "7bf65356",
   "metadata": {},
   "outputs": [
    {
     "name": "stdout",
     "output_type": "stream",
     "text": [
      "urutan pemenang lomba lari adalah aji kukuh mamat\n"
     ]
    }
   ],
   "source": [
    "print('urutan pemenang lomba lari adalah {} {} {}'.format('aji','kukuh','mamat'))"
   ]
  },
  {
   "cell_type": "code",
   "execution_count": 51,
   "id": "ef4abc7f",
   "metadata": {},
   "outputs": [
    {
     "name": "stdout",
     "output_type": "stream",
     "text": [
      "urutan pemenang lomba lari adalah mamat kukuh aji\n"
     ]
    }
   ],
   "source": [
    "print('urutan pemenang lomba lari adalah {2} {1} {0}'.format('aji','kukuh','mamat'))"
   ]
  },
  {
   "cell_type": "code",
   "execution_count": 52,
   "id": "6b67f2d2",
   "metadata": {},
   "outputs": [
    {
     "name": "stdout",
     "output_type": "stream",
     "text": [
      "urutan pemenang lomba lari adalah kukuh mamat aji\n"
     ]
    }
   ],
   "source": [
    "print('urutan pemenang lomba lari adalah {b} {c} {a}'.format(a='aji',b='kukuh',c='mamat'))"
   ]
  },
  {
   "cell_type": "code",
   "execution_count": 53,
   "id": "a670d36b",
   "metadata": {},
   "outputs": [],
   "source": [
    "phi = 22/7"
   ]
  },
  {
   "cell_type": "code",
   "execution_count": 54,
   "id": "9d32a067",
   "metadata": {},
   "outputs": [
    {
     "data": {
      "text/plain": [
       "3.142857142857143"
      ]
     },
     "execution_count": 54,
     "metadata": {},
     "output_type": "execute_result"
    }
   ],
   "source": [
    "phi"
   ]
  },
  {
   "cell_type": "code",
   "execution_count": 55,
   "id": "29e7c9ee",
   "metadata": {},
   "outputs": [
    {
     "name": "stdout",
     "output_type": "stream",
     "text": [
      "untuk menghitung luas lingkarang, menggunakan phi = 3.142857142857143\n"
     ]
    }
   ],
   "source": [
    "print('untuk menghitung luas lingkarang, menggunakan phi = {}'.format(phi))"
   ]
  },
  {
   "cell_type": "code",
   "execution_count": 57,
   "id": "27266e96",
   "metadata": {},
   "outputs": [],
   "source": [
    "luas1 = 667.9"
   ]
  },
  {
   "cell_type": "code",
   "execution_count": 59,
   "id": "105aabbc",
   "metadata": {},
   "outputs": [],
   "source": [
    "luas2 = 998.7"
   ]
  },
  {
   "cell_type": "markdown",
   "id": "5f74b6ad",
   "metadata": {},
   "source": [
    "Forman penulisan format print {nilai:lebar.tingkat_presisi f}"
   ]
  },
  {
   "cell_type": "code",
   "execution_count": 67,
   "id": "5c702490",
   "metadata": {},
   "outputs": [
    {
     "name": "stdout",
     "output_type": "stream",
     "text": [
      "luas tanah yang dimiliki pak budi adalah 667.9 dan milik suto 998.7\n"
     ]
    }
   ],
   "source": [
    "luas1 = 667.9\n",
    "luas2 = 998.7\n",
    "\n",
    "print('luas tanah yang dimiliki pak budi adalah {a} dan milik suto {b}'.format(a=luas1, b=luas2))"
   ]
  },
  {
   "cell_type": "code",
   "execution_count": 74,
   "id": "0a516c35",
   "metadata": {},
   "outputs": [
    {
     "name": "stdout",
     "output_type": "stream",
     "text": [
      "luas tanah yang dimiliki pak budi adalah 667.900 dan milik suto 998.70\n"
     ]
    }
   ],
   "source": [
    "print('luas tanah yang dimiliki pak budi adalah {a:0.3f} dan milik suto {b:0.2f}'.format(a=luas1, b=luas2))"
   ]
  },
  {
   "cell_type": "code",
   "execution_count": null,
   "id": "95ce9381",
   "metadata": {},
   "outputs": [],
   "source": []
  }
 ],
 "metadata": {
  "kernelspec": {
   "display_name": "Python 3 (ipykernel)",
   "language": "python",
   "name": "python3"
  },
  "language_info": {
   "codemirror_mode": {
    "name": "ipython",
    "version": 3
   },
   "file_extension": ".py",
   "mimetype": "text/x-python",
   "name": "python",
   "nbconvert_exporter": "python",
   "pygments_lexer": "ipython3",
   "version": "3.9.12"
  }
 },
 "nbformat": 4,
 "nbformat_minor": 5
}
