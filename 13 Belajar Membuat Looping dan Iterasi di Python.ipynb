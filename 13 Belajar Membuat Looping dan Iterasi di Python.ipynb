{
 "cells": [
  {
   "cell_type": "markdown",
   "id": "1cc719cb",
   "metadata": {},
   "source": [
    "## For loops"
   ]
  },
  {
   "cell_type": "code",
   "execution_count": 5,
   "id": "47c6a83f",
   "metadata": {},
   "outputs": [
    {
     "name": "stdout",
     "output_type": "stream",
     "text": [
      "s\n",
      "a\n",
      "y\n",
      "a\n",
      " \n",
      "b\n",
      "e\n",
      "l\n",
      "a\n",
      "j\n",
      "a\n",
      "r\n",
      " \n",
      "p\n",
      "y\n",
      "t\n",
      "h\n",
      "o\n",
      "n\n"
     ]
    }
   ],
   "source": [
    "for i in 'saya belajar python':\n",
    "    print(i)"
   ]
  },
  {
   "cell_type": "code",
   "execution_count": 6,
   "id": "85ee6e79",
   "metadata": {},
   "outputs": [
    {
     "name": "stdout",
     "output_type": "stream",
     "text": [
      "saya belajar python"
     ]
    }
   ],
   "source": [
    "for i in 'saya belajar python':\n",
    "    print(i, end='')"
   ]
  },
  {
   "cell_type": "code",
   "execution_count": 7,
   "id": "e17d9d56",
   "metadata": {},
   "outputs": [],
   "source": [
    "angka = [1,2,3,4,5,6,7,8,9]"
   ]
  },
  {
   "cell_type": "code",
   "execution_count": 8,
   "id": "41ee68ec",
   "metadata": {},
   "outputs": [
    {
     "name": "stdout",
     "output_type": "stream",
     "text": [
      "1\n",
      "2\n",
      "3\n",
      "4\n",
      "5\n",
      "6\n",
      "7\n",
      "8\n",
      "9\n"
     ]
    }
   ],
   "source": [
    "for isi in angka:\n",
    "    print(isi)"
   ]
  },
  {
   "cell_type": "code",
   "execution_count": 9,
   "id": "f9275ccc",
   "metadata": {},
   "outputs": [
    {
     "data": {
      "text/plain": [
       "9"
      ]
     },
     "execution_count": 9,
     "metadata": {},
     "output_type": "execute_result"
    }
   ],
   "source": [
    "len(angka)"
   ]
  },
  {
   "cell_type": "code",
   "execution_count": 10,
   "id": "685ad1b4",
   "metadata": {},
   "outputs": [],
   "source": [
    "jumlah = 0"
   ]
  },
  {
   "cell_type": "code",
   "execution_count": 14,
   "id": "4b9d7e6e",
   "metadata": {},
   "outputs": [
    {
     "name": "stdout",
     "output_type": "stream",
     "text": [
      "hasil penjumlahan pada iterator ke-1 adalah 64\n",
      "hasil penjumlahan pada iterator ke-2 adalah 66\n",
      "hasil penjumlahan pada iterator ke-3 adalah 69\n",
      "hasil penjumlahan pada iterator ke-4 adalah 73\n",
      "hasil penjumlahan pada iterator ke-5 adalah 78\n",
      "hasil penjumlahan pada iterator ke-6 adalah 84\n",
      "hasil penjumlahan pada iterator ke-7 adalah 91\n",
      "hasil penjumlahan pada iterator ke-8 adalah 99\n",
      "hasil penjumlahan pada iterator ke-9 adalah 108\n"
     ]
    }
   ],
   "source": [
    "for isi in angka:\n",
    "    jumlah += isi\n",
    "    print('hasil penjumlahan pada iterator ke-{} adalah {}'.format(isi,jumlah))"
   ]
  },
  {
   "cell_type": "code",
   "execution_count": 17,
   "id": "a83b3b89",
   "metadata": {},
   "outputs": [
    {
     "name": "stdout",
     "output_type": "stream",
     "text": [
      "totalnya adalah 207\n"
     ]
    }
   ],
   "source": [
    "for isi in angka:\n",
    "    jumlah += isi\n",
    "print('totalnya adalah',jumlah)"
   ]
  },
  {
   "cell_type": "code",
   "execution_count": 18,
   "id": "9dd6506d",
   "metadata": {},
   "outputs": [],
   "source": [
    "angka_baru = [1,2,3,4,5,6,7,8,9,10]"
   ]
  },
  {
   "cell_type": "code",
   "execution_count": 21,
   "id": "0a92eb79",
   "metadata": {},
   "outputs": [
    {
     "name": "stdout",
     "output_type": "stream",
     "text": [
      "urutan ke-1 adalah 1\n",
      "urutan ke-2 adalah 3\n",
      "urutan ke-3 adalah 6\n",
      "urutan ke-4 adalah 10\n",
      "urutan ke-5 adalah 15\n",
      "urutan ke-6 adalah 21\n",
      "urutan ke-7 adalah 28\n",
      "urutan ke-8 adalah 36\n",
      "urutan ke-9 adalah 45\n",
      "urutan ke-10 adalah 55\n"
     ]
    }
   ],
   "source": [
    "jumlah_baru = 0\n",
    "for a in angka_baru:\n",
    "    jumlah_baru += a\n",
    "    print('urutan ke-{} adalah {}'.format(a,jumlah_baru))"
   ]
  },
  {
   "cell_type": "code",
   "execution_count": 25,
   "id": "8130b286",
   "metadata": {},
   "outputs": [
    {
     "name": "stdout",
     "output_type": "stream",
     "text": [
      "total jumlah 275\n"
     ]
    }
   ],
   "source": [
    "for a in angka_baru:\n",
    "    jumlah_baru = jumlah_baru + a\n",
    "print('total jumlah',jumlah_baru)"
   ]
  },
  {
   "cell_type": "code",
   "execution_count": null,
   "id": "aec01d29",
   "metadata": {},
   "outputs": [],
   "source": []
  },
  {
   "cell_type": "code",
   "execution_count": null,
   "id": "19442b88",
   "metadata": {},
   "outputs": [],
   "source": []
  },
  {
   "cell_type": "markdown",
   "id": "6406efba",
   "metadata": {},
   "source": [
    "## Penggunaan looping dan conditionals"
   ]
  },
  {
   "cell_type": "code",
   "execution_count": 30,
   "id": "f2bdb63b",
   "metadata": {},
   "outputs": [
    {
     "name": "stdout",
     "output_type": "stream",
     "text": [
      "kamu dihuruf A dan di urutan - 2\n",
      "kamu dihuruf A dan di urutan - 4\n",
      "kamu dihuruf A dan di urutan - 9\n",
      "kamu dihuruf A dan di urutan - 11\n"
     ]
    }
   ],
   "source": [
    "jumlah = 0\n",
    "for item in 'saya belajar python':\n",
    "    jumlah += 1\n",
    "    if item == 'a':\n",
    "        print('kamu dihuruf A dan di urutan -',jumlah)"
   ]
  },
  {
   "cell_type": "markdown",
   "id": "44b8634f",
   "metadata": {},
   "source": [
    "### Tantangan \n",
    "\n",
    "angka = [1,2,3,4,5,6,7,8,910]\n",
    "lakukan iterasi list angka, kemudian cetak di layar apakah ia ganjil atau genap"
   ]
  },
  {
   "cell_type": "code",
   "execution_count": 32,
   "id": "96a3bb91",
   "metadata": {},
   "outputs": [],
   "source": [
    "angka = [1,2,3,4,5,6,7,8,9,10]"
   ]
  },
  {
   "cell_type": "code",
   "execution_count": 40,
   "id": "1bf2eeaa",
   "metadata": {},
   "outputs": [
    {
     "name": "stdout",
     "output_type": "stream",
     "text": [
      "angka 1  merupakan angka ganjil\n",
      "angka 2  merupakan angka genap\n",
      "angka 3  merupakan angka ganjil\n",
      "angka 4  merupakan angka genap\n",
      "angka 5  merupakan angka ganjil\n",
      "angka 6  merupakan angka genap\n",
      "angka 7  merupakan angka ganjil\n",
      "angka 8  merupakan angka genap\n",
      "angka 9  merupakan angka ganjil\n",
      "angka 10  merupakan angka genap\n"
     ]
    }
   ],
   "source": [
    "for x in angka:\n",
    "    if x % 2 == 0:\n",
    "        print('angka',x,' merupakan angka genap')\n",
    "    else:\n",
    "        print('angka',x,' merupakan angka ganjil')"
   ]
  },
  {
   "cell_type": "code",
   "execution_count": null,
   "id": "2614c08c",
   "metadata": {},
   "outputs": [],
   "source": []
  },
  {
   "cell_type": "code",
   "execution_count": null,
   "id": "4f397e97",
   "metadata": {},
   "outputs": [],
   "source": []
  },
  {
   "cell_type": "markdown",
   "id": "5475b701",
   "metadata": {},
   "source": [
    "### For loop dengan tuple dan list multiple items"
   ]
  },
  {
   "cell_type": "code",
   "execution_count": 42,
   "id": "071f7378",
   "metadata": {},
   "outputs": [],
   "source": [
    "box1 = ((1,2),(3,4),(5,6))"
   ]
  },
  {
   "cell_type": "code",
   "execution_count": 43,
   "id": "7b1c93f5",
   "metadata": {},
   "outputs": [
    {
     "name": "stdout",
     "output_type": "stream",
     "text": [
      "(1, 2)\n",
      "(3, 4)\n",
      "(5, 6)\n"
     ]
    }
   ],
   "source": [
    "for item in box1:\n",
    "    print(item)"
   ]
  },
  {
   "cell_type": "code",
   "execution_count": 48,
   "id": "9a22090d",
   "metadata": {},
   "outputs": [
    {
     "name": "stdout",
     "output_type": "stream",
     "text": [
      "1\n",
      "2\n",
      "3\n",
      "4\n",
      "5\n",
      "6\n"
     ]
    }
   ],
   "source": [
    "for a,b in box1:\n",
    "    print(a)\n",
    "    print(b)"
   ]
  },
  {
   "cell_type": "code",
   "execution_count": 49,
   "id": "c84dafde",
   "metadata": {},
   "outputs": [
    {
     "name": "stdout",
     "output_type": "stream",
     "text": [
      "1\n",
      "2\n",
      "3\n",
      "4\n",
      "5\n",
      "6\n"
     ]
    }
   ],
   "source": [
    "box2 = [(1,2),(3,4),(5,6)]\n",
    "\n",
    "for a,b in box2:\n",
    "    print(a)\n",
    "    print(b)"
   ]
  },
  {
   "cell_type": "code",
   "execution_count": 50,
   "id": "a6a3f5a6",
   "metadata": {},
   "outputs": [
    {
     "name": "stdout",
     "output_type": "stream",
     "text": [
      "1\n",
      "2\n",
      "a\n",
      "3\n",
      "4\n",
      "b\n",
      "5\n",
      "6\n",
      "c\n"
     ]
    }
   ],
   "source": [
    "box3 = [(1,2,'a'),(3,4,'b'),(5,6,'c')]\n",
    "\n",
    "for a,b,c in box3:\n",
    "    print(a)\n",
    "    print(b)\n",
    "    print(c)"
   ]
  },
  {
   "cell_type": "markdown",
   "id": "83d6fa86",
   "metadata": {},
   "source": [
    "## While loop\n",
    "ada 3 argumen yang biasa digunkan\n",
    "\n",
    "1. break = menghentikan looping\n",
    "2. continue = melanjutkan looping ke iterator selanjutnya dan melewati iterator saat ini \n",
    "3. pass = tidak melakukan apa-apa\n"
   ]
  },
  {
   "cell_type": "code",
   "execution_count": 1,
   "id": "5d984f63",
   "metadata": {},
   "outputs": [
    {
     "name": "stdout",
     "output_type": "stream",
     "text": [
      "saya berhasil menjalankan while loop\n",
      "saya berhasil menjalankan while loop\n",
      "saya berhasil menjalankan while loop\n",
      "saya berhasil menjalankan while loop\n",
      "saya berhasil menjalankan while loop\n"
     ]
    }
   ],
   "source": [
    "index = 0\n",
    "while True:\n",
    "    print('saya berhasil menjalankan while loop')\n",
    "    index += 1\n",
    "    if index == 5:\n",
    "        break"
   ]
  },
  {
   "cell_type": "code",
   "execution_count": 2,
   "id": "66a70c42",
   "metadata": {},
   "outputs": [
    {
     "name": "stdout",
     "output_type": "stream",
     "text": [
      "sekarang anda menampilkan angka  0\n",
      "sekarang anda menampilkan angka  2\n",
      "sekarang anda menampilkan angka  4\n",
      "sekarang anda menampilkan angka  6\n",
      "sekarang anda menampilkan angka  8\n",
      "sekarang anda menampilkan angka  10\n",
      "sekarang anda menampilkan angka  12\n",
      "sekarang anda menampilkan angka  14\n",
      "sekarang anda menampilkan angka  16\n",
      "sekarang anda menampilkan angka  18\n"
     ]
    }
   ],
   "source": [
    "x = 0\n",
    "while x < 20:\n",
    "    print('sekarang anda menampilkan angka ',x)\n",
    "    x+=2"
   ]
  },
  {
   "cell_type": "code",
   "execution_count": null,
   "id": "c4037bdc",
   "metadata": {},
   "outputs": [],
   "source": []
  },
  {
   "cell_type": "code",
   "execution_count": 3,
   "id": "1ae1f2e4",
   "metadata": {},
   "outputs": [],
   "source": [
    "angka = [1,2,3,4,5,6,7,8,9]"
   ]
  },
  {
   "cell_type": "code",
   "execution_count": 4,
   "id": "b13b98d2",
   "metadata": {},
   "outputs": [
    {
     "name": "stdout",
     "output_type": "stream",
     "text": [
      "anda nemapilkan angka ganjil = 1\n",
      "anda nemapilkan angka ganjil = 3\n",
      "anda nemapilkan angka ganjil = 5\n",
      "anda nemapilkan angka ganjil = 7\n",
      "anda nemapilkan angka ganjil = 9\n"
     ]
    }
   ],
   "source": [
    "for item in angka:\n",
    "    if item%2 == 0:\n",
    "        continue\n",
    "    else:\n",
    "        print('anda nemapilkan angka ganjil =', item)"
   ]
  },
  {
   "cell_type": "code",
   "execution_count": 5,
   "id": "2d621bfc",
   "metadata": {},
   "outputs": [],
   "source": [
    "for i in 'saya sudah mulai mahir belajar python':\n",
    "    if i == 'a':\n",
    "        pass\n",
    "    else:\n",
    "        continue"
   ]
  },
  {
   "cell_type": "code",
   "execution_count": 5,
   "id": "560d5245",
   "metadata": {},
   "outputs": [
    {
     "name": "stdout",
     "output_type": "stream",
     "text": [
      "a\n",
      "b\n",
      "c\n",
      "d\n"
     ]
    }
   ],
   "source": [
    "for a in 'abcd':\n",
    "    pass\n",
    "    print(a)"
   ]
  },
  {
   "cell_type": "code",
   "execution_count": null,
   "id": "436a80ac",
   "metadata": {},
   "outputs": [],
   "source": []
  }
 ],
 "metadata": {
  "kernelspec": {
   "display_name": "Python 3 (ipykernel)",
   "language": "python",
   "name": "python3"
  },
  "language_info": {
   "codemirror_mode": {
    "name": "ipython",
    "version": 3
   },
   "file_extension": ".py",
   "mimetype": "text/x-python",
   "name": "python",
   "nbconvert_exporter": "python",
   "pygments_lexer": "ipython3",
   "version": "3.9.12"
  }
 },
 "nbformat": 4,
 "nbformat_minor": 5
}
