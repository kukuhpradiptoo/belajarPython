{
 "cells": [
  {
   "cell_type": "code",
   "execution_count": 1,
   "id": "933ee079",
   "metadata": {},
   "outputs": [],
   "source": [
    "#python 3.x\n",
    "class Nama:\n",
    "    pass"
   ]
  },
  {
   "cell_type": "code",
   "execution_count": 2,
   "id": "9e4c4d01",
   "metadata": {},
   "outputs": [],
   "source": [
    "#pythin 2.x\n",
    "class Nama2():\n",
    "    pass"
   ]
  },
  {
   "cell_type": "code",
   "execution_count": 3,
   "id": "6d85e5c3",
   "metadata": {},
   "outputs": [],
   "source": [
    "var1 = Nama()"
   ]
  },
  {
   "cell_type": "code",
   "execution_count": 4,
   "id": "72c99d32",
   "metadata": {},
   "outputs": [
    {
     "data": {
      "text/plain": [
       "__main__.Nama"
      ]
     },
     "execution_count": 4,
     "metadata": {},
     "output_type": "execute_result"
    }
   ],
   "source": [
    "type(var1)"
   ]
  },
  {
   "cell_type": "code",
   "execution_count": null,
   "id": "79f1ddc1",
   "metadata": {},
   "outputs": [],
   "source": []
  },
  {
   "cell_type": "code",
   "execution_count": 12,
   "id": "05129393",
   "metadata": {},
   "outputs": [],
   "source": [
    "class Kulkas:\n",
    "    \n",
    "    def __init__(self, merek, harga): # self untuk merujuk clas didefinisikan, dan merek dan harga adalah atribut\n",
    "        self.merek = merek\n",
    "        self.harga = harga"
   ]
  },
  {
   "cell_type": "code",
   "execution_count": 13,
   "id": "40b80ddb",
   "metadata": {},
   "outputs": [],
   "source": [
    "barang1 = Kulkas(merek = 'samsung', harga = 300 )"
   ]
  },
  {
   "cell_type": "code",
   "execution_count": 14,
   "id": "88b7cc56",
   "metadata": {},
   "outputs": [],
   "source": [
    "#atau \n",
    "barang2 = Kulkas('samsung',300 ) #namun harus urut "
   ]
  },
  {
   "cell_type": "code",
   "execution_count": 15,
   "id": "688c7ff2",
   "metadata": {},
   "outputs": [
    {
     "data": {
      "text/plain": [
       "'samsung'"
      ]
     },
     "execution_count": 15,
     "metadata": {},
     "output_type": "execute_result"
    }
   ],
   "source": [
    "barang2.merek"
   ]
  },
  {
   "cell_type": "code",
   "execution_count": 16,
   "id": "ac480e2f",
   "metadata": {},
   "outputs": [
    {
     "data": {
      "text/plain": [
       "300"
      ]
     },
     "execution_count": 16,
     "metadata": {},
     "output_type": "execute_result"
    }
   ],
   "source": [
    "barang2.harga"
   ]
  },
  {
   "cell_type": "code",
   "execution_count": 17,
   "id": "1aeea7e0",
   "metadata": {},
   "outputs": [],
   "source": [
    "barang3 = Kulkas('Tosyiba', 1230000)"
   ]
  },
  {
   "cell_type": "code",
   "execution_count": 18,
   "id": "43bd0bf6",
   "metadata": {},
   "outputs": [
    {
     "data": {
      "text/plain": [
       "1230000"
      ]
     },
     "execution_count": 18,
     "metadata": {},
     "output_type": "execute_result"
    }
   ],
   "source": [
    "barang3.harga"
   ]
  },
  {
   "cell_type": "code",
   "execution_count": 20,
   "id": "344500db",
   "metadata": {},
   "outputs": [
    {
     "data": {
      "text/plain": [
       "'Tosyiba'"
      ]
     },
     "execution_count": 20,
     "metadata": {},
     "output_type": "execute_result"
    }
   ],
   "source": [
    "barang3.merek\n",
    "#self .merek ==> self digunakan untuk merepresentasikan barang\" (atribut)"
   ]
  },
  {
   "cell_type": "code",
   "execution_count": null,
   "id": "d21e9655",
   "metadata": {},
   "outputs": [],
   "source": []
  },
  {
   "cell_type": "code",
   "execution_count": 22,
   "id": "049fac83",
   "metadata": {},
   "outputs": [],
   "source": [
    "class Elektronik:\n",
    "    \n",
    "    def __init__(self,merek,harga,jumlah):\n",
    "        self.merek = merek\n",
    "        self.harga = harga\n",
    "        self.jumlah = jumlah\n",
    "        self.warna = \"coklat\""
   ]
  },
  {
   "cell_type": "code",
   "execution_count": 24,
   "id": "53ace3e5",
   "metadata": {},
   "outputs": [],
   "source": [
    "barang4 = Elektronik('LG',2000000,10)"
   ]
  },
  {
   "cell_type": "code",
   "execution_count": 25,
   "id": "3d36ac73",
   "metadata": {},
   "outputs": [
    {
     "data": {
      "text/plain": [
       "'coklat'"
      ]
     },
     "execution_count": 25,
     "metadata": {},
     "output_type": "execute_result"
    }
   ],
   "source": [
    "barang4.warna"
   ]
  },
  {
   "cell_type": "code",
   "execution_count": 26,
   "id": "65ab0b37",
   "metadata": {},
   "outputs": [
    {
     "data": {
      "text/plain": [
       "10"
      ]
     },
     "execution_count": 26,
     "metadata": {},
     "output_type": "execute_result"
    }
   ],
   "source": [
    "barang4.jumlah"
   ]
  },
  {
   "cell_type": "code",
   "execution_count": null,
   "id": "5c6bf93c",
   "metadata": {},
   "outputs": [],
   "source": []
  }
 ],
 "metadata": {
  "kernelspec": {
   "display_name": "Python 3 (ipykernel)",
   "language": "python",
   "name": "python3"
  },
  "language_info": {
   "codemirror_mode": {
    "name": "ipython",
    "version": 3
   },
   "file_extension": ".py",
   "mimetype": "text/x-python",
   "name": "python",
   "nbconvert_exporter": "python",
   "pygments_lexer": "ipython3",
   "version": "3.9.12"
  }
 },
 "nbformat": 4,
 "nbformat_minor": 5
}
